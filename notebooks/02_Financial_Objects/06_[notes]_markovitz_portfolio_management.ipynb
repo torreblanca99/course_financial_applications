{
  "cells": [
    {
      "cell_type": "markdown",
      "metadata": {
        "id": "lJCTTJlsjPtA"
      },
      "source": [
        "# **Financial Applicactions with ML & AI**\n",
        "\n",
        "<img style=\"float: right;\" src=\"https://github.com/torreblanca99/course_financial_applications/blob/develop/docs/img/logo_bourbaki.png?raw=1\" width=\"100\"/>\n",
        "\n",
        "## **Module II:** Value Risk\n",
        "#### Topic: Monte Carlo for Options Value\n",
        "\n",
        "##### Name: Julio César Avila Torreblanca\n",
        "\n",
        "- **Objective**: apply Monte Carlo to value options.\n",
        "\n",
        "- **Contents**:\n",
        "    - Notes:\n",
        "        - Monte Carlo\n",
        "    - Code:\n",
        "        1. Libraries and parameters\n",
        "        2. Read Data (Asset example)\n",
        "        3. EDA\n",
        "        4. Preparing Data\n",
        "        5. Modeling\n",
        "        6. Evaluation\n",
        "----"
      ]
    },
    {
      "cell_type": "markdown",
      "metadata": {
        "id": "828NbCQ7jPtB"
      },
      "source": [
        "# Class Notes: Markowitz's Portfolio Theory\n",
        "\n",
        "## Introduction to Markowitz's Portfolio Theory\n",
        "\n",
        "Harry Markowitz introduced the groundbreaking concept of portfolio selection in his 1952 paper, \"Portfolio Selection,\" published in The Journal of Finance. He is considered the father of Modern Portfolio Theory (MPT), which mathematically formalizes the process of creating investment portfolios with a focus on optimizing returns for a given level of risk.\n",
        "\n",
        "### Key Concepts\n",
        "\n",
        "- **Mean-Variance Optimization**: The theory emphasizes the optimization of a portfolio's expected return for a specified level of risk, measured by the variance or standard deviation of returns.\n",
        "- **Efficient Frontier**: A set of optimal portfolios that offer the highest expected return for a defined level of risk. Portfolios on the efficient frontier are considered optimal.\n",
        "- **Diversification**: The strategy of spreading investments across various assets to reduce risk. Markowitz formalized diversification as a core principle of portfolio construction.\n",
        "\n",
        "## Portfolio Construction\n",
        "\n",
        "### Risk and Return\n",
        "\n",
        "- The return of an asset $ i $ is defined as $ r_i = R_i - 1 $, where $ R_i $ is the rate of return of asset $ i $.\n",
        "- The portfolio return $ r $ is given by:\n",
        "\n",
        "$$\n",
        "r = \\sum_{i=1}^{n} r_i w_i\n",
        "$$\n",
        "\n",
        "where $ r_i $ is the return of asset $ i $ and $ w_i $ is the weight of asset $ i $ in the portfolio.\n",
        "\n",
        "### Mean-Variance Optimization\n",
        "\n",
        "The goal of Markowitz's mean-variance optimization is to choose the weights of the portfolio optimally to achieve the desired expected return with minimal volatility. The variance of the return is used as a proxy for risk:\n",
        "\n",
        "- Let $ \\mu_i = \\mathbb{E}(r_i) $ denote the expected return of asset $ i $,\n",
        "- Let $ m = (\\mu_1, \\mu_2, \\ldots, \\mu_n)^T $ represent the vector of expected returns,\n",
        "- Let $ \\Sigma $ denote the covariance matrix of asset returns,\n",
        "- $ w = (w_1, w_2, \\ldots, w_n)^T $ represents the weights of the portfolio.\n",
        "\n",
        "The portfolio's expected return is $ m^T w $, and its variance is $ w^T \\Sigma w $.\n",
        "\n",
        "### Optimal Portfolio\n",
        "\n",
        "For an acceptable level of expected return $ \\mu_b $, an optimal portfolio is any portfolio that solves the following quadratic programming problem:\n",
        "\n",
        "$$\n",
        "\\min_{w} \\frac{1}{2} w^T \\Sigma w\n",
        "$$\n",
        "\n",
        "subject to:\n",
        "\n",
        "$$\n",
        "m^T w = \\mu_b\n",
        "$$\n",
        "\n",
        "$$\n",
        "\\sum_{i=1}^{n} w_i = 1\n",
        "$$\n",
        "\n",
        "### Conclusion\n",
        "\n",
        "Markowitz's Portfolio Theory laid the groundwork for modern investment strategies by mathematically framing the trade-off between risk and return and underscoring the importance of diversification. The theory has inspired numerous further developments in finance, such as the Capital Asset Pricing Model (CAPM) and other portfolio optimization techniques.\n",
        "\n",
        "---"
      ]
    },
    {
      "cell_type": "markdown",
      "metadata": {
        "id": "Vk_KwuuOjPtB"
      },
      "source": [
        "# 1. Librerías y parámetros"
      ]
    },
    {
      "cell_type": "code",
      "execution_count": 1,
      "metadata": {
        "id": "fzIn-EZFjPtB"
      },
      "outputs": [],
      "source": [
        "import yfinance as yf\n",
        "\n",
        "import pandas as pd\n",
        "import numpy as np\n",
        "\n",
        "import cvxopt as opt\n",
        "\n",
        "import plotly.express as px"
      ]
    },
    {
      "cell_type": "markdown",
      "metadata": {},
      "source": [
        "# 2. Rading data"
      ]
    },
    {
      "cell_type": "code",
      "execution_count": null,
      "metadata": {},
      "outputs": [],
      "source": [
        "# Assets: Google, Apple, IBM, Microsoft, Netflix, Nvidia\n",
        "data = yf.download(\n",
        "        tickers = \"GOOG AAPL IBM MSFT NFLX NVDA\", # options\n",
        "        period = \"1y\", # one year information\n",
        "        interval = \"1d\", # daily information\n",
        "    ).loc[:, 'Close']\n",
        "\n",
        "data"
      ]
    },
    {
      "cell_type": "markdown",
      "metadata": {},
      "source": [
        "# 3. EDA"
      ]
    },
    {
      "cell_type": "code",
      "execution_count": null,
      "metadata": {},
      "outputs": [],
      "source": [
        "data.loc[:, [\n",
        "    'AAPL', \n",
        "    'GOOG', \n",
        "    'IBM', \n",
        "    'MSFT', \n",
        "    'NFLX', \n",
        "    'NVDA']\n",
        "         ].plot()"
      ]
    },
    {
      "cell_type": "code",
      "execution_count": null,
      "metadata": {},
      "outputs": [],
      "source": [
        "data.columns"
      ]
    },
    {
      "cell_type": "code",
      "execution_count": null,
      "metadata": {},
      "outputs": [],
      "source": [
        "data.loc[:, [\n",
        "    'AAPL', \n",
        "    'GOOG', \n",
        "    'IBM', \n",
        "    'MSFT', \n",
        "    #'NFLX', \n",
        "    'NVDA']\n",
        "         ].plot()"
      ]
    },
    {
      "cell_type": "markdown",
      "metadata": {},
      "source": [
        "# 3. Preparing Data"
      ]
    },
    {
      "cell_type": "markdown",
      "metadata": {},
      "source": [
        "## 3.1 Transformations"
      ]
    },
    {
      "cell_type": "markdown",
      "metadata": {},
      "source": [
        "#### Anual Log- Returns"
      ]
    },
    {
      "cell_type": "code",
      "execution_count": null,
      "metadata": {},
      "outputs": [],
      "source": [
        "annual_returns = np.log(data / data.shift()) * 252 # Para anualizar los retornos\n",
        "annual_returns"
      ]
    },
    {
      "cell_type": "markdown",
      "metadata": {},
      "source": [
        "### Expected values (Meas)"
      ]
    },
    {
      "cell_type": "code",
      "execution_count": null,
      "metadata": {},
      "outputs": [],
      "source": [
        "# whole  year\n",
        "annual_returns.iloc[0:250].mean()"
      ]
    },
    {
      "cell_type": "code",
      "execution_count": null,
      "metadata": {},
      "outputs": [],
      "source": [
        "# first half of a year\n",
        "annual_returns.iloc[0:125].mean()\n"
      ]
    },
    {
      "cell_type": "markdown",
      "metadata": {},
      "source": [
        "## 3.2 Example of a manual portfolio"
      ]
    },
    {
      "cell_type": "code",
      "execution_count": null,
      "metadata": {},
      "outputs": [],
      "source": [
        "# secong half of a year\n",
        "mean_returns = annual_returns.iloc[125:].mean()\n",
        "mean_returns"
      ]
    },
    {
      "cell_type": "markdown",
      "metadata": {},
      "source": [
        "### Covanriances for second half of the year"
      ]
    },
    {
      "cell_type": "code",
      "execution_count": null,
      "metadata": {},
      "outputs": [],
      "source": [
        "# covariance matrix\n",
        "cov_returns = annual_returns.iloc[125:].cov()\n",
        "cov_returns"
      ]
    },
    {
      "cell_type": "markdown",
      "metadata": {},
      "source": [
        "### Set weights to each asset"
      ]
    },
    {
      "cell_type": "code",
      "execution_count": null,
      "metadata": {},
      "outputs": [],
      "source": [
        "money = 1000 # amount of money available'''\n",
        "omega = pd.Series([0.5, 0.1, 0.05, 0.15, 0.1, 0.1]) * money\n",
        "omega\n",
        "     "
      ]
    },
    {
      "cell_type": "markdown",
      "metadata": {},
      "source": [
        "### Expected Return "
      ]
    },
    {
      "cell_type": "code",
      "execution_count": null,
      "metadata": {},
      "outputs": [],
      "source": [
        "np.dot(1+mean_returns, omega)"
      ]
    },
    {
      "cell_type": "markdown",
      "metadata": {},
      "source": [
        "# 4. Modeling with Markovitz [finding optimal values for my portfolio]\n",
        "\n",
        "https://pyportfoliopt.readthedocs.io/en/latest/UserGuide.html\n",
        "\n",
        "If $ \\mathbf{w}$ is the vector of weights of stocks with expected returns $ \\mu $, then the portfolio return is equal to the weight of each stock multiplied by its return, that is, $ \\mathbf{w}^T \\mu $. The portfolio risk in terms of the covariance matrix $ \\Sigma$ is given by \n",
        "\n",
        "$$\n",
        "\\sigma^2 = \\mathbf{w}^T \\Sigma \\mathbf{w}.\n",
        "$$\n",
        "\n",
        "Which, a bit more \"broken down,\" is written in the following 2 text boxes.\n",
        "\n",
        "## Expected Portfolio Value Compared to Expected Value of Each Asset\n",
        "\n",
        "I have 4 assets and a capital of $ v_0 $ pesos:\n",
        "\n",
        "- Each asset has its expected return $ \\mu_1, \\mu_2, \\mu_3, \\mu_4 $.\n",
        "- I invest in each asset $ w_1, w_2, w_3, w_4 $(such that $ w_1 + w_2 + w_3 + w_4 = v_0 $)\n",
        "\n",
        "Then:\n",
        "\n",
        "$$\n",
        "E(R_p) = \\sum_i w_i E(R_i) = \\sum_i w_i \\mu_i\n",
        "$$\n",
        "\n",
        "## Expected Portfolio Volatility Compared to Volatility of Each Asset\n",
        "\n",
        "- Each asset has a volatility of $ \\sigma_1, \\sigma_2, \\sigma_3, \\sigma_4 $ respectively. Then the portfolio volatility is:\n",
        "\n",
        "$$\n",
        "\\sigma_p^2 = \\sum_i w_i^2 \\sigma_i^2 + \\sum_{j \\neq i} w_i w_j \\sigma_i\\sigma_j\\rho_{ij}\n",
        "$$\n",
        "\n",
        "where $ \\sigma_i $ is the volatility of each asset, and $ \\rho_{ij} $ is the correlation coefficient of the returns of asset $ i $ with asset $ j$ .\n",
        "\n",
        "The Sharpe ratio is the excess return of the portfolio per unit of risk (volatility)\n",
        "\n",
        "$$\n",
        "SR = \\frac{R_p - R_f}{\\sigma}\n",
        "$$\n",
        "\n",
        "With this in mind, we will create an amount $ N $ of portfolios with random weights and will save the weights, return, volatility, and the Sharpe ratio for each one.\n",
        "\n",
        "---\n"
      ]
    },
    {
      "cell_type": "markdown",
      "metadata": {},
      "source": [
        "## 4.1 Simulation One Investment"
      ]
    },
    {
      "cell_type": "code",
      "execution_count": null,
      "metadata": {},
      "outputs": [],
      "source": [
        "np.random.seed(1995)\n",
        "\n",
        "N = 10000\n",
        "N = 6  \n",
        "\n",
        "k = annual_returns.shape[1]\n",
        "\n",
        "weights = np.zeros((N, k))\n",
        "returns = np.zeros(N)\n",
        "volatilities = np.zeros(N)\n",
        "sharpe_ratios = np.zeros(N)\n",
        "\n",
        "weights2 = np.array([[1,0,0,0,0,0],[0,1,0,0,0,0],[0,0,1,0,0,0],[0,0,0,1,0,0],[0,0,0,0,1,0],[0,0,0,0,0,1]])\n",
        "\n",
        "weights.shape"
      ]
    },
    {
      "cell_type": "code",
      "execution_count": null,
      "metadata": {},
      "outputs": [],
      "source": [
        "weights"
      ]
    },
    {
      "cell_type": "code",
      "execution_count": null,
      "metadata": {},
      "outputs": [],
      "source": [
        "w = np.random.random(6)\n",
        "w /= np.sum(w)\n",
        "w"
      ]
    },
    {
      "cell_type": "code",
      "execution_count": 16,
      "metadata": {},
      "outputs": [],
      "source": [
        "for i in range(N):\n",
        "    w = np.random.random(k)\n",
        "    w /= np.sum(w)\n",
        "\n",
        "    w = weights2[i]  ##\n",
        "    weights[i, :] = weights2[i]  ##\n",
        "\n",
        "    weights[i, :] = w\n",
        "\n",
        "    returns[i] = np.dot(mean_returns, w)\n",
        "\n",
        "    volatilities[i] = np.sqrt(np.dot(w.T, np.dot(cov_returns, w)))         ###        w.T @ cov_returns @ w\n",
        "\n",
        "    sharpe_ratios[i] = returns[i] / volatilities[i]"
      ]
    },
    {
      "cell_type": "code",
      "execution_count": null,
      "metadata": {},
      "outputs": [],
      "source": [
        "weights"
      ]
    },
    {
      "cell_type": "code",
      "execution_count": null,
      "metadata": {},
      "outputs": [],
      "source": [
        "# Pure Portafolios \n",
        "import matplotlib.pyplot as plt\n",
        "\n",
        "px.scatter(x = volatilities, y = returns, color = sharpe_ratios,\n",
        "           labels={\n",
        "                     \"x\": \"Volatilidad\",\n",
        "                     \"y\": \"Retorno\",\n",
        "                     \"color\": \"Razón de Sharpe\"\n",
        "                 }\n",
        "           )\n",
        "# plt.scatter(volatilities, returns, c = sharpe_ratios)"
      ]
    },
    {
      "cell_type": "markdown",
      "metadata": {},
      "source": [
        "## 4.2 Simulation 10,000 samples"
      ]
    },
    {
      "cell_type": "code",
      "execution_count": null,
      "metadata": {},
      "outputs": [],
      "source": [
        "np.random.seed(1995)\n",
        "\n",
        "N = 10000 \n",
        "\n",
        "k = annual_returns.shape[1]\n",
        "\n",
        "weights = np.zeros((N, k))\n",
        "returns = np.zeros(N)\n",
        "volatilities = np.zeros(N)\n",
        "sharpe_ratios = np.zeros(N)\n",
        "\n",
        "weights2 = np.array([[1,0,0,0,0,0],[0,1,0,0,0,0],[0,0,1,0,0,0],[0,0,0,1,0,0],[0,0,0,0,1,0],[0,0,0,0,0,1]])\n",
        "\n",
        "weights.shape"
      ]
    },
    {
      "cell_type": "code",
      "execution_count": null,
      "metadata": {},
      "outputs": [],
      "source": [
        "weights"
      ]
    },
    {
      "cell_type": "code",
      "execution_count": null,
      "metadata": {},
      "outputs": [],
      "source": [
        "w = np.random.random(6)\n",
        "w /= np.sum(w)\n",
        "w"
      ]
    },
    {
      "cell_type": "code",
      "execution_count": 24,
      "metadata": {},
      "outputs": [],
      "source": [
        "for i in range(N):\n",
        "    w = np.random.random(k)\n",
        "    w /= np.sum(w)\n",
        "\n",
        "    weights[i, :] = w\n",
        "\n",
        "    returns[i] = np.dot(mean_returns, w)\n",
        "\n",
        "    volatilities[i] = np.sqrt(np.dot(w.T, np.dot(cov_returns, w)))         ###        w.T @ cov_returns @ w\n",
        "\n",
        "    sharpe_ratios[i] = returns[i] / volatilities[i]"
      ]
    },
    {
      "cell_type": "code",
      "execution_count": null,
      "metadata": {},
      "outputs": [],
      "source": [
        "weights"
      ]
    },
    {
      "cell_type": "code",
      "execution_count": null,
      "metadata": {},
      "outputs": [],
      "source": [
        "# Pure Portafolios \n",
        "import matplotlib.pyplot as plt\n",
        "\n",
        "px.scatter(x = volatilities, y = returns, color = sharpe_ratios,\n",
        "           labels={\n",
        "                     \"x\": \"Volatilidad\",\n",
        "                     \"y\": \"Retorno\",\n",
        "                     \"color\": \"Razón de Sharpe\"\n",
        "                 }\n",
        "           )\n",
        "# plt.scatter(volatilities, returns, c = sharpe_ratios)"
      ]
    },
    {
      "cell_type": "markdown",
      "metadata": {},
      "source": [
        "## 4.3 Find Optimal Portfolio"
      ]
    },
    {
      "cell_type": "markdown",
      "metadata": {},
      "source": [
        "The optimization of the portfolio can be seen as a convex optimization problem, and a solution can be found using quadratic programming. If we denote the target return as $ \\mu^*$ , the problem to be solved for the portfolio with only long positions is:\n",
        "\n",
        "$$\n",
        "\\begin{align*}\n",
        "\\min_w \\quad & \\mathbf{w}^T \\Sigma \\mathbf{w} & (1)\\\\\n",
        "\\text{s.a.} \\quad & \\mathbf{w}^T \\mu \\geq \\mu^* & (2)\\\\\n",
        "& \\mathbf{w}^T 1 = 1 & (3)\\\\\n",
        "& w_i \\geq 0 & (4)\n",
        "\\end{align*}\n",
        "$$\n",
        "\n",
        "To solve it, we will use the function `cvxopt.solvers.qp`. This requires that the optimization problem is in general form. Specifically, the general form of a quadratic programming problem is the following:\n",
        "\n",
        "$$\n",
        "\\begin{align*}\n",
        "\\min_x \\quad & \\frac{1}{2} x^T P x + q^T x & (5)\\\\\n",
        "\\text{s.a.} \\quad & Gx \\preceq h & (6)\\\\\n",
        "& Ax = b & (7)\n",
        "\\end{align*}\n",
        "$$"
      ]
    },
    {
      "cell_type": "code",
      "execution_count": null,
      "metadata": {},
      "outputs": [],
      "source": [
        "mu_star = 0.5 # minumun of return expected\n",
        "\n",
        "G = opt.matrix(-np.concatenate([mean_returns.to_numpy().reshape(1, k),np.eye(k)]), tc = 'd')\n",
        "h = opt.matrix(np.concatenate([np.array([-mu_star]).reshape((1, 1)), np.zeros((k, 1))]), tc = 'd')\n",
        "q = opt.matrix(0.0, (k, 1))\n",
        "A = opt.matrix(1.0, (1, k))\n",
        "b = opt.matrix(1.0)\n",
        "P = opt.matrix(2 * cov_returns.to_numpy(), tc = 'd')"
      ]
    },
    {
      "cell_type": "code",
      "execution_count": null,
      "metadata": {},
      "outputs": [],
      "source": [
        "results = opt.solvers.qp(P, q, G, h, A, b)\n",
        "results"
      ]
    },
    {
      "cell_type": "code",
      "execution_count": null,
      "metadata": {},
      "outputs": [],
      "source": [
        "np.set_printoptions(suppress=True) # not scientific notation\n",
        "\n",
        "w = np.asarray(results['x']).reshape((-1))\n",
        "w"
      ]
    },
    {
      "cell_type": "code",
      "execution_count": null,
      "metadata": {},
      "outputs": [],
      "source": [
        "mean_returns"
      ]
    },
    {
      "cell_type": "code",
      "execution_count": null,
      "metadata": {},
      "outputs": [],
      "source": [
        "# Validation\n",
        "np.dot(mean_returns, w)"
      ]
    },
    {
      "cell_type": "code",
      "execution_count": null,
      "metadata": {},
      "outputs": [],
      "source": [
        "# volatility\n",
        "np.sqrt(results['primal objective'])"
      ]
    },
    {
      "cell_type": "markdown",
      "metadata": {},
      "source": [
        "## 4.4 Optimal Values for multiple expected return values"
      ]
    },
    {
      "cell_type": "code",
      "execution_count": null,
      "metadata": {},
      "outputs": [],
      "source": [
        "mu_stars = np.linspace(.0, .54, 51)\n",
        "mu_stars"
      ]
    },
    {
      "cell_type": "code",
      "execution_count": null,
      "metadata": {},
      "outputs": [],
      "source": [
        "G = opt.matrix(-np.concatenate([mean_returns.to_numpy().reshape(1, k),np.eye(k)]), tc = 'd')\n",
        "q = opt.matrix(0.0, (k, 1))\n",
        "A = opt.matrix(1.0, (1, k))\n",
        "b = opt.matrix(1.0)\n",
        "P = opt.matrix(2 * cov_returns.to_numpy(), tc = 'd')\n",
        "\n",
        "mu_stars = np.linspace(.0, .6, 51)    #####################\n",
        "\n",
        "ws = np.zeros((len(mu_stars), k))\n",
        "mus = np.zeros(len(mu_stars))\n",
        "sigmas = np.zeros(len(mu_stars))\n",
        "\n",
        "for i, mu_star in enumerate(mu_stars):\n",
        "    try:\n",
        "        h = opt.matrix(np.concatenate([np.array([-mu_star]).reshape((1, 1)), np.zeros((k, 1))]), tc = 'd')\n",
        "        results = opt.solvers.qp(P, q, G, h, A, b)\n",
        "\n",
        "        w = np.asarray(results['x']).reshape((-1))\n",
        "        ws[i, :] = w\n",
        "        mus[i] = np.dot(mean_returns, w)\n",
        "        sigmas[i] = np.sqrt(results['primal objective'])\n",
        "    except:\n",
        "        print('domain error')"
      ]
    },
    {
      "cell_type": "code",
      "execution_count": null,
      "metadata": {},
      "outputs": [],
      "source": [
        "import plotly.graph_objects as go\n",
        "\n",
        "## Portfolios of an optimal frontier\n",
        "fig = go.Figure()\n",
        "\n",
        "fig.add_traces(\n",
        "    [\n",
        "        go.Scatter(\n",
        "            x = volatilities, y = returns,\n",
        "            marker = dict(\n",
        "                color = sharpe_ratios,\n",
        "                colorbar = dict(title=\"Razón de Sharpe\")\n",
        "            ),\n",
        "            mode = 'markers',\n",
        "            showlegend = False\n",
        "        ),\n",
        "        go.Scatter(\n",
        "            x = sigmas, y = mus,\n",
        "            mode = 'lines + markers',\n",
        "            showlegend = False\n",
        "        )\n",
        "])\n",
        "\n",
        "fig.update_layout(\n",
        "    xaxis_title = 'Volatilidad',\n",
        "    yaxis_title = 'Retorno'\n",
        ")\n"
      ]
    },
    {
      "cell_type": "markdown",
      "metadata": {},
      "source": [
        "## 4.5 Using another solver\n",
        "\n",
        "#### Mean-Variance Choice\n",
        "\n",
        "The optimal portfolio can also be obtained by maximizing, with respect to $ \\mathbf{w} $,\n",
        "\n",
        "$$\n",
        "U(\\mu, \\Sigma; \\mathbf{w}) = \\mathbf{w}^T \\mu - \\frac{\\delta}{2} \\mathbf{w}^T \\Sigma \\mathbf{w}\n",
        "$$\n",
        "\n",
        "where $ \\delta > 0 $ is the risk aversion parameter. The first-order condition to maximize it is\n",
        "\n",
        "$$\n",
        "\\mu = \\delta \\Sigma \\mathbf{w}\n",
        "$$\n",
        "\n",
        "which implies the following design for a portfolio with risk:\n",
        "\n",
        "$$\n",
        "\\mathbf{w} = (\\delta \\Sigma)^{-1} \\mu\n",
        "$$\n",
        "\n",
        "This is a system of linear equations that we can solve with `np.linalg.solve`.\n",
        "\n",
        "\n",
        "\n",
        "\n",
        "\n",
        "\n"
      ]
    },
    {
      "cell_type": "code",
      "execution_count": null,
      "metadata": {},
      "outputs": [],
      "source": [
        "delta = .2\n",
        "\n",
        "np.linalg.solve(delta * cov_returns,  mean_returns)\n",
        "# it can give negative weights     "
      ]
    },
    {
      "cell_type": "code",
      "execution_count": null,
      "metadata": {},
      "outputs": [],
      "source": [
        "data.columns"
      ]
    },
    {
      "cell_type": "markdown",
      "metadata": {},
      "source": [
        "## Extra: https://python-advanced.quantecon.org/black_litterman.html"
      ]
    },
    {
      "cell_type": "markdown",
      "metadata": {},
      "source": []
    }
  ],
  "metadata": {
    "colab": {
      "provenance": [],
      "toc_visible": true
    },
    "kernelspec": {
      "display_name": ".venv",
      "language": "python",
      "name": "python3"
    },
    "language_info": {
      "codemirror_mode": {
        "name": "ipython",
        "version": 3
      },
      "file_extension": ".py",
      "mimetype": "text/x-python",
      "name": "python",
      "nbconvert_exporter": "python",
      "pygments_lexer": "ipython3",
      "version": "3.11.4"
    }
  },
  "nbformat": 4,
  "nbformat_minor": 0
}

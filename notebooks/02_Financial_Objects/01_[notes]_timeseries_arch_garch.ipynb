{
 "cells": [
  {
   "cell_type": "markdown",
   "metadata": {},
   "source": [
    "# **Financial Applicactions with ML & AI**\n",
    "\n",
    "<img style=\"float: right;\" src=\"https://github.com/torreblanca99/course_financial_applications/blob/develop/docs/img/logo_bourbaki.png?raw=1\" width=\"100\"/>\n",
    "\n",
    "## **Module II:** Value Risk\n",
    "#### Topic:  Time Series *ARCH/GARCH* and *LSTM*.\n",
    "\n",
    "##### Name: Julio César Avila Torreblanca\n",
    "\n",
    "- **Objective**: apply ARCH and GARCH problem to a time series analysis.\n",
    "\n",
    "- **Contents**:\n",
    "    - Notes:\n",
    "        - ARCH/GARCH/LSTM Algorithm\n",
    "    - Code:\n",
    "        1. Libraries and parameters\n",
    "        2. Read Data\n",
    "        3. EDA\n",
    "        4. Modeling\n",
    "        5. Evaluation\n",
    "----"
   ]
  },
  {
   "cell_type": "markdown",
   "metadata": {},
   "source": [
    "# Class Notes: Time Series Analysis with ARCH, GARCH, and LSTM Models\n",
    "\n",
    "## Volatility Modeling with ARCH and GARCH\n",
    "\n",
    "### ARCH Models\n",
    "\n",
    "#### Basic Concept\n",
    "\n",
    "The AutoRegressive Conditional Heteroskedasticity (ARCH) model is designed to model time-varying volatility in time series data by using past squared observations to predict current variance.\n",
    "\n",
    "#### Mathematical Formulation\n",
    "\n",
    "An ARCH(p) model is given by:\n",
    "\n",
    "- **Error Term**: \n",
    "  $$\n",
    "  \\epsilon_t = \\sigma_t w_t\n",
    " $$\n",
    "  where $w_t$ is white noise.\n",
    "\n",
    "- **Volatility (Variance) Equation**:\n",
    "  $$\n",
    "  \\sigma^2_t = \\alpha_0 + \\alpha_1 \\epsilon^2_{t-1} + \\ldots + \\alpha_p \\epsilon^2_{t-p}\n",
    "  $$\n",
    "\n",
    "- **Assumptions**:\n",
    "  - **Stationarity**: The series should be stationary in mean, meaning that the statistical properties do not change over time.\n",
    "  - **No Autocorrelation in Errors**: Residuals should not show autocorrelation.\n",
    "  - **Normality of Errors**: The error terms are assumed to be normally distributed.\n",
    "\n",
    "#### Advantages and Disadvantages\n",
    "\n",
    "- **Advantages**:\n",
    "  - Suitable for capturing volatility clustering.\n",
    "  - Relatively simple to implement.\n",
    "\n",
    "- **Disadvantages**:\n",
    "  - Requires large datasets for complex models.\n",
    "  - May not perform well if assumptions are violated.\n",
    "\n",
    "\n",
    "\n",
    "### GARCH Models\n",
    "\n",
    "#### Basic Concept\n",
    "\n",
    "The Generalized ARCH (GARCH) model extends ARCH by including past conditional variances, offering a more comprehensive approach to forecasting volatility.\n",
    "\n",
    "#### Mathematical Formulation\n",
    "\n",
    "A GARCH(p, q) model's variance equation is:\n",
    "\n",
    "$$\n",
    "\\sigma^2_t = \\alpha_0 + \\sum_{i=1}^{p} \\alpha_i \\epsilon^2_{t-i} + \\sum_{j=1}^{q} \\beta_j \\sigma^2_{t-j}\n",
    "$$\n",
    "\n",
    "#### Advantages and Disadvantages\n",
    "\n",
    "- **Advantages**:\n",
    "  - Captures both short-term and long-term volatility.\n",
    "  - Generally provides better forecast accuracy than simple ARCH.\n",
    "\n",
    "- **Disadvantages**:\n",
    "  - More computationally intensive.\n",
    "  - Sensitivity to model specification and initial values.\n",
    "\n",
    "## Long Short-Term Memory (LSTM) Networks\n",
    "\n",
    "### Introduction\n",
    "\n",
    "LSTM networks are a type of recurrent neural network (RNN) designed to learn from sequences of data with long-range dependencies. They are particularly effective in handling time series data with complex temporal structures.\n",
    "\n",
    "### How LSTMs Work\n",
    "\n",
    "LSTMs have a specialized architecture that includes a memory cell, along with input, output, and forget gates. These components allow the network to retain information over extended sequences without succumbing to the vanishing gradient problem typical in standard RNNs.\n",
    "\n",
    "### Applications in Time Series\n",
    "\n",
    "- **Financial Forecasting**: LSTMs can be used to predict stock prices, interest rates, and other financial indicators.\n",
    "- **Anomaly Detection**: Suitable for identifying unusual patterns indicative of fraud or other financial risks.\n",
    "\n",
    "### Advantages and Disadvantages\n",
    "\n",
    "- **Advantages**:\n",
    "  - Ability to remember long-term dependencies makes LSTMs powerful for sequence prediction.\n",
    "  - Flexibility in modeling complex temporal relationships.\n",
    "\n",
    "- **Disadvantages**:\n",
    "  - Requires large amounts of data and computational resources.\n",
    "  - Interpretability can be challenging compared to simpler models.\n",
    "\n",
    "---"
   ]
  },
  {
   "cell_type": "markdown",
   "metadata": {},
   "source": [
    "# 1. Librerías y parámetros"
   ]
  },
  {
   "cell_type": "code",
   "execution_count": null,
   "metadata": {},
   "outputs": [],
   "source": []
  },
  {
   "cell_type": "markdown",
   "metadata": {},
   "source": [
    "# 2. White Noise Analysis"
   ]
  },
  {
   "cell_type": "markdown",
   "metadata": {},
   "source": []
  },
  {
   "cell_type": "markdown",
   "metadata": {},
   "source": [
    "# 3. Random Walk Analysis"
   ]
  },
  {
   "cell_type": "code",
   "execution_count": null,
   "metadata": {},
   "outputs": [],
   "source": []
  },
  {
   "cell_type": "markdown",
   "metadata": {},
   "source": [
    "# 4. Conclusions"
   ]
  },
  {
   "cell_type": "code",
   "execution_count": null,
   "metadata": {},
   "outputs": [],
   "source": []
  }
 ],
 "metadata": {
  "kernelspec": {
   "display_name": ".venv",
   "language": "python",
   "name": "python3"
  },
  "language_info": {
   "codemirror_mode": {
    "name": "ipython",
    "version": 3
   },
   "file_extension": ".py",
   "mimetype": "text/x-python",
   "name": "python",
   "nbconvert_exporter": "python",
   "pygments_lexer": "ipython3",
   "version": "3.11.4"
  }
 },
 "nbformat": 4,
 "nbformat_minor": 2
}

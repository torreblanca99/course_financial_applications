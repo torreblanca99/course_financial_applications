{
  "cells": [
    {
      "cell_type": "markdown",
      "metadata": {
        "id": "lJCTTJlsjPtA"
      },
      "source": [
        "# **Financial Applicactions with ML & AI**\n",
        "\n",
        "<img style=\"float: right;\" src=\"https://github.com/torreblanca99/course_financial_applications/blob/develop/docs/img/logo_bourbaki.png?raw=1\" width=\"100\"/>\n",
        "\n",
        "## **Module II:** Value Risk\n",
        "#### Topic:  Black-Scholes for Options Value\n",
        "\n",
        "##### Name: Julio César Avila Torreblanca\n",
        "\n",
        "- **Objective**: apply Black Scholes to value options.\n",
        "\n",
        "- **Contents**:\n",
        "    - Notes:\n",
        "        - Black Scholes\n",
        "    - Code:\n",
        "        1. Libraries and parameters\n",
        "        2. Read Data\n",
        "        3. Preparing Data\n",
        "        4. Modeling\n",
        "        5. Evaluation\n",
        "----"
      ]
    },
    {
      "cell_type": "markdown",
      "metadata": {
        "id": "828NbCQ7jPtB"
      },
      "source": [
        "# Class Notes: Financial Options and Black-Scholes Model\n",
        "\n",
        "## Financial Options\n",
        "\n",
        "### Definition\n",
        "\n",
        "A financial option is a contract that grants the holder the right, but not the obligation, to buy or sell an asset at a predetermined price before or at a specified expiration date. Options are used primarily for hedging risks or for speculative purposes.\n",
        "\n",
        "### Types of Options\n",
        "\n",
        "Options can be broadly categorized based on the underlying asset, exercise style, and position (call or put). The exercise style primarily divides options into European-style or American-style.\n",
        "\n",
        "## European Options\n",
        "\n",
        "### Definition\n",
        "\n",
        "European options are a type of financial option that can only be exercised at the expiration date, unlike American options, which can be exercised at any time before expiration. This characteristic often makes European options simpler to analyze and price compared to their American counterparts.\n",
        "\n",
        "### Key Characteristics\n",
        "\n",
        "- **Exercise Timing**: Can only be exercised at expiration.\n",
        "- **Pricing Models**: Often use the Black-Scholes model for valuation.\n",
        "- **Underlying Assets**: Typically involve stocks, indices, or other securities.\n",
        "\n",
        "## Call and Put Options\n",
        "\n",
        "### Call Option\n",
        "\n",
        "A call option gives the holder the right, but not the obligation, to purchase a specific quantity of an asset at a predetermined strike price on or before the expiration date (for American options) or only at expiration (for European options).\n",
        "\n",
        "- **Profit Potential**: Unlimited, as the underlying asset’s price can theoretically increase indefinitely.\n",
        "- **Risk**: Limited to the premium paid for the option.\n",
        "\n",
        "### Put Option\n",
        "\n",
        "A put option grants the holder the right, but not the obligation, to sell a specific quantity of an asset at a predetermined strike price.\n",
        "\n",
        "- **Profit Potential**: Limited, as the asset’s price cannot fall below zero.\n",
        "- **Risk**: Limited to the premium paid for the option.\n",
        "\n",
        "### Example for both:\n",
        "\n",
        "- **Exercise Value for Call**: At expiration, the call option is exercised if the asset price exceeds the strike price, with the payoff being $ \\max(S_T - K, 0) $.\n",
        "- **Exercise Value for Put**: At expiration, the put option is exercised if the asset price is below the strike price, with the payoff being $ \\max(K - S_T, 0) $.\n",
        "\n",
        "## Black-Scholes Model\n",
        "\n",
        "### Introduction\n",
        "\n",
        "The Black-Scholes model is a mathematical model used for pricing European-style options. It was developed by Fischer Black and Myron Scholes and introduced in their 1973 paper, \"The Pricing of Options and Corporate Liabilities.\"\n",
        "\n",
        "### Key Features\n",
        "\n",
        "- **Assumptions**:\n",
        "  - The market is frictionless (no taxes, no transaction costs).\n",
        "  - The risk-free rate and volatility of the underlying asset are constant.\n",
        "  - The price of the underlying follows a geometric Brownian motion.\n",
        "\n",
        "### Partial Differential Equation Model\n",
        "\n",
        "The price of an option is modeled as the solution of a partial differential equation (PDE), which describes the price of an option over time:\n",
        "\n",
        "$$\n",
        "\\frac{\\partial C}{\\partial t} + \\frac{1}{2}\\sigma^2 S^2 \\frac{\\partial^2 C}{\\partial S^2} + rS\\frac{\\partial C}{\\partial S} - rC = 0.\n",
        "$$\n",
        "\n",
        "Where $S$ is the price of the underlying asset. The problem is subject to the following boundary conditions:\n",
        "\n",
        "$$\n",
        "C(0, t) = 0 \\text{ for all } t\n",
        "$$\n",
        "$$\n",
        "C(S, t) \\rightarrow S - K \\text{ as } S \\rightarrow \\infty\n",
        "$$\n",
        "$$\n",
        "C(S, T) = \\max\\{S - K, 0\\}\n",
        "$$\n",
        "\n",
        "### Model Formula for a Call Option\n",
        "\n",
        "The Black-Scholes formula for a European call option is given by (solution to the PDE):\n",
        "\n",
        "$$\n",
        "C(S_t, t) = N(d_1) S_t - N(d_2) K e^{-r(T-t)}  \n",
        "$$\n",
        "$$\n",
        "d_1 = \\frac{1}{\\sigma \\sqrt{T-t}} \\left[ \\ln \\left( \\frac{S_t}{K} \\right) + \\left( r + \\frac{\\sigma^2}{2} \\right) (T-t) \\right]\n",
        "$$\n",
        "$$\n",
        "d_2 = d_1 - \\sigma\\sqrt{T-t}\n",
        "$$\n",
        "\n",
        "where:\n",
        "\n",
        "- $ S_t $ is the price of the underlying asset at time $t$.\n",
        "- $ K $ is the strike price (price you are buying the asset).\n",
        "- $ r $ is the risk-free interest rate.\n",
        "- $ T - t $ is the contract's time to expirate.\n",
        "- $ N(\\cdot) $ is the cumulative distribution function of the standard normal distribution.\n",
        "- $ \\sigma^2$ is the standard deviation of the asset subyacent.\n",
        "\n",
        "\n",
        "\n",
        "### Conclusion\n",
        "\n",
        "The Black-Scholes model revolutionized financial markets by providing a systematic and theoretically grounded method to price options, which are critical tools in risk management and speculative strategies.\n",
        "\n",
        "---"
      ]
    },
    {
      "cell_type": "markdown",
      "metadata": {
        "id": "Vk_KwuuOjPtB"
      },
      "source": [
        "# 1. Librerías y parámetros"
      ]
    },
    {
      "cell_type": "code",
      "execution_count": 1,
      "metadata": {
        "id": "fzIn-EZFjPtB"
      },
      "outputs": [],
      "source": [
        "import yfinance as yf\n",
        "import pandas as pd\n",
        "import numpy as np\n",
        "\n",
        "from scipy.stats import norm\n",
        "\n",
        "import matplotlib.pyplot as plt"
      ]
    },
    {
      "cell_type": "markdown",
      "metadata": {
        "id": "0vRfWAsIjPtB"
      },
      "source": [
        "# 2. Reading Data"
      ]
    },
    {
      "cell_type": "code",
      "execution_count": 2,
      "metadata": {
        "colab": {
          "base_uri": "https://localhost:8080/",
          "height": 187
        },
        "id": "B-4t140Cj89M",
        "outputId": "25d5ac71-55c9-4ab6-9ad5-ed1dd2395c7b"
      },
      "outputs": [
        {
          "name": "stdout",
          "output_type": "stream",
          "text": [
            "YF.download() has changed argument auto_adjust default to True\n"
          ]
        },
        {
          "name": "stderr",
          "output_type": "stream",
          "text": [
            "[*********************100%***********************]  2 of 2 completed\n"
          ]
        },
        {
          "data": {
            "text/html": [
              "<div>\n",
              "<style scoped>\n",
              "    .dataframe tbody tr th:only-of-type {\n",
              "        vertical-align: middle;\n",
              "    }\n",
              "\n",
              "    .dataframe tbody tr th {\n",
              "        vertical-align: top;\n",
              "    }\n",
              "\n",
              "    .dataframe thead th {\n",
              "        text-align: right;\n",
              "    }\n",
              "</style>\n",
              "<table border=\"1\" class=\"dataframe\">\n",
              "  <thead>\n",
              "    <tr style=\"text-align: right;\">\n",
              "      <th>Ticker</th>\n",
              "      <th>GOOGL</th>\n",
              "      <th>^IRX</th>\n",
              "    </tr>\n",
              "    <tr>\n",
              "      <th>Date</th>\n",
              "      <th></th>\n",
              "      <th></th>\n",
              "    </tr>\n",
              "  </thead>\n",
              "  <tbody>\n",
              "    <tr>\n",
              "      <th>2024-03-25</th>\n",
              "      <td>NaN</td>\n",
              "      <td>5.218</td>\n",
              "    </tr>\n",
              "    <tr>\n",
              "      <th>2024-03-26</th>\n",
              "      <td>149.953079</td>\n",
              "      <td>5.218</td>\n",
              "    </tr>\n",
              "    <tr>\n",
              "      <th>2024-03-27</th>\n",
              "      <td>150.152115</td>\n",
              "      <td>5.215</td>\n",
              "    </tr>\n",
              "    <tr>\n",
              "      <th>2024-03-28</th>\n",
              "      <td>150.211838</td>\n",
              "      <td>5.203</td>\n",
              "    </tr>\n",
              "    <tr>\n",
              "      <th>2024-04-01</th>\n",
              "      <td>154.750153</td>\n",
              "      <td>5.218</td>\n",
              "    </tr>\n",
              "    <tr>\n",
              "      <th>...</th>\n",
              "      <td>...</td>\n",
              "      <td>...</td>\n",
              "    </tr>\n",
              "    <tr>\n",
              "      <th>2025-03-19</th>\n",
              "      <td>163.889999</td>\n",
              "      <td>4.190</td>\n",
              "    </tr>\n",
              "    <tr>\n",
              "      <th>2025-03-20</th>\n",
              "      <td>162.800003</td>\n",
              "      <td>4.182</td>\n",
              "    </tr>\n",
              "    <tr>\n",
              "      <th>2025-03-21</th>\n",
              "      <td>163.990005</td>\n",
              "      <td>4.185</td>\n",
              "    </tr>\n",
              "    <tr>\n",
              "      <th>2025-03-24</th>\n",
              "      <td>167.679993</td>\n",
              "      <td>4.182</td>\n",
              "    </tr>\n",
              "    <tr>\n",
              "      <th>2025-03-25</th>\n",
              "      <td>170.559998</td>\n",
              "      <td>4.182</td>\n",
              "    </tr>\n",
              "  </tbody>\n",
              "</table>\n",
              "<p>251 rows × 2 columns</p>\n",
              "</div>"
            ],
            "text/plain": [
              "Ticker           GOOGL   ^IRX\n",
              "Date                         \n",
              "2024-03-25         NaN  5.218\n",
              "2024-03-26  149.953079  5.218\n",
              "2024-03-27  150.152115  5.215\n",
              "2024-03-28  150.211838  5.203\n",
              "2024-04-01  154.750153  5.218\n",
              "...                ...    ...\n",
              "2025-03-19  163.889999  4.190\n",
              "2025-03-20  162.800003  4.182\n",
              "2025-03-21  163.990005  4.185\n",
              "2025-03-24  167.679993  4.182\n",
              "2025-03-25  170.559998  4.182\n",
              "\n",
              "[251 rows x 2 columns]"
            ]
          },
          "execution_count": 2,
          "metadata": {},
          "output_type": "execute_result"
        }
      ],
      "source": [
        "data = yf.download(\n",
        "        tickers = \"GOOGL ^IRX\", # options: GOOGL: Google, ^IRX: 13 Week Treasury Bill\n",
        "        period = \"1y\", # one year information\n",
        "        interval = \"1d\", # daily information\n",
        "    ).loc[:, 'Close']\n",
        "data"
      ]
    },
    {
      "cell_type": "markdown",
      "metadata": {},
      "source": [
        "# 3. Preparing Data"
      ]
    },
    {
      "cell_type": "markdown",
      "metadata": {},
      "source": [
        "## 3.1 Structure"
      ]
    },
    {
      "cell_type": "code",
      "execution_count": 3,
      "metadata": {
        "id": "PQvdWZPK64NA"
      },
      "outputs": [],
      "source": [
        "# rename columns\n",
        "data.rename(columns={'^IRX':'IRX'}, inplace=True)"
      ]
    },
    {
      "cell_type": "code",
      "execution_count": 4,
      "metadata": {},
      "outputs": [],
      "source": [
        "# change percentage to decimal\n",
        "data['IRX'] = data['IRX']/100"
      ]
    },
    {
      "cell_type": "markdown",
      "metadata": {},
      "source": [
        "## 3.2 Transformations"
      ]
    },
    {
      "cell_type": "markdown",
      "metadata": {},
      "source": [
        "### Google"
      ]
    },
    {
      "cell_type": "markdown",
      "metadata": {},
      "source": [
        "#### Log- Returns"
      ]
    },
    {
      "cell_type": "code",
      "execution_count": 5,
      "metadata": {},
      "outputs": [],
      "source": [
        "# log-returns\n",
        "data['log_ret'] = np.log(data['GOOGL']) - np.log(data['GOOGL'].shift(1))"
      ]
    },
    {
      "cell_type": "code",
      "execution_count": 6,
      "metadata": {},
      "outputs": [
        {
          "data": {
            "text/html": [
              "<div>\n",
              "<style scoped>\n",
              "    .dataframe tbody tr th:only-of-type {\n",
              "        vertical-align: middle;\n",
              "    }\n",
              "\n",
              "    .dataframe tbody tr th {\n",
              "        vertical-align: top;\n",
              "    }\n",
              "\n",
              "    .dataframe thead th {\n",
              "        text-align: right;\n",
              "    }\n",
              "</style>\n",
              "<table border=\"1\" class=\"dataframe\">\n",
              "  <thead>\n",
              "    <tr style=\"text-align: right;\">\n",
              "      <th>Ticker</th>\n",
              "      <th>GOOGL</th>\n",
              "      <th>IRX</th>\n",
              "      <th>log_ret</th>\n",
              "    </tr>\n",
              "    <tr>\n",
              "      <th>Date</th>\n",
              "      <th></th>\n",
              "      <th></th>\n",
              "      <th></th>\n",
              "    </tr>\n",
              "  </thead>\n",
              "  <tbody>\n",
              "    <tr>\n",
              "      <th>2024-03-25</th>\n",
              "      <td>NaN</td>\n",
              "      <td>0.05218</td>\n",
              "      <td>NaN</td>\n",
              "    </tr>\n",
              "    <tr>\n",
              "      <th>2024-03-26</th>\n",
              "      <td>149.953079</td>\n",
              "      <td>0.05218</td>\n",
              "      <td>NaN</td>\n",
              "    </tr>\n",
              "    <tr>\n",
              "      <th>2024-03-27</th>\n",
              "      <td>150.152115</td>\n",
              "      <td>0.05215</td>\n",
              "      <td>0.001326</td>\n",
              "    </tr>\n",
              "    <tr>\n",
              "      <th>2024-03-28</th>\n",
              "      <td>150.211838</td>\n",
              "      <td>0.05203</td>\n",
              "      <td>0.000398</td>\n",
              "    </tr>\n",
              "    <tr>\n",
              "      <th>2024-04-01</th>\n",
              "      <td>154.750153</td>\n",
              "      <td>0.05218</td>\n",
              "      <td>0.029765</td>\n",
              "    </tr>\n",
              "  </tbody>\n",
              "</table>\n",
              "</div>"
            ],
            "text/plain": [
              "Ticker           GOOGL      IRX   log_ret\n",
              "Date                                     \n",
              "2024-03-25         NaN  0.05218       NaN\n",
              "2024-03-26  149.953079  0.05218       NaN\n",
              "2024-03-27  150.152115  0.05215  0.001326\n",
              "2024-03-28  150.211838  0.05203  0.000398\n",
              "2024-04-01  154.750153  0.05218  0.029765"
            ]
          },
          "execution_count": 6,
          "metadata": {},
          "output_type": "execute_result"
        }
      ],
      "source": [
        "data.head()"
      ]
    },
    {
      "cell_type": "code",
      "execution_count": 7,
      "metadata": {},
      "outputs": [
        {
          "data": {
            "text/plain": [
              "<Axes: >"
            ]
          },
          "execution_count": 7,
          "metadata": {},
          "output_type": "execute_result"
        },
        {
          "data": {
            "image/png": "[encoded data removed]",
            "text/plain": [
              "<Figure size 640x480 with 1 Axes>"
            ]
          },
          "metadata": {},
          "output_type": "display_data"
        }
      ],
      "source": [
        "data.log_ret.hist()"
      ]
    },
    {
      "cell_type": "markdown",
      "metadata": {},
      "source": [
        "#### Volatility"
      ]
    },
    {
      "cell_type": "code",
      "execution_count": 8,
      "metadata": {},
      "outputs": [
        {
          "data": {
            "text/html": [
              "<div>\n",
              "<style scoped>\n",
              "    .dataframe tbody tr th:only-of-type {\n",
              "        vertical-align: middle;\n",
              "    }\n",
              "\n",
              "    .dataframe tbody tr th {\n",
              "        vertical-align: top;\n",
              "    }\n",
              "\n",
              "    .dataframe thead th {\n",
              "        text-align: right;\n",
              "    }\n",
              "</style>\n",
              "<table border=\"1\" class=\"dataframe\">\n",
              "  <thead>\n",
              "    <tr style=\"text-align: right;\">\n",
              "      <th>Ticker</th>\n",
              "      <th>GOOGL</th>\n",
              "      <th>IRX</th>\n",
              "      <th>log_ret</th>\n",
              "      <th>Vol_GOOGL</th>\n",
              "    </tr>\n",
              "    <tr>\n",
              "      <th>Date</th>\n",
              "      <th></th>\n",
              "      <th></th>\n",
              "      <th></th>\n",
              "      <th></th>\n",
              "    </tr>\n",
              "  </thead>\n",
              "  <tbody>\n",
              "    <tr>\n",
              "      <th>2024-03-25</th>\n",
              "      <td>NaN</td>\n",
              "      <td>0.05218</td>\n",
              "      <td>NaN</td>\n",
              "      <td>NaN</td>\n",
              "    </tr>\n",
              "    <tr>\n",
              "      <th>2024-03-26</th>\n",
              "      <td>149.953079</td>\n",
              "      <td>0.05218</td>\n",
              "      <td>NaN</td>\n",
              "      <td>NaN</td>\n",
              "    </tr>\n",
              "    <tr>\n",
              "      <th>2024-03-27</th>\n",
              "      <td>150.152115</td>\n",
              "      <td>0.05215</td>\n",
              "      <td>0.001326</td>\n",
              "      <td>NaN</td>\n",
              "    </tr>\n",
              "    <tr>\n",
              "      <th>2024-03-28</th>\n",
              "      <td>150.211838</td>\n",
              "      <td>0.05203</td>\n",
              "      <td>0.000398</td>\n",
              "      <td>NaN</td>\n",
              "    </tr>\n",
              "    <tr>\n",
              "      <th>2024-04-01</th>\n",
              "      <td>154.750153</td>\n",
              "      <td>0.05218</td>\n",
              "      <td>0.029765</td>\n",
              "      <td>NaN</td>\n",
              "    </tr>\n",
              "    <tr>\n",
              "      <th>...</th>\n",
              "      <td>...</td>\n",
              "      <td>...</td>\n",
              "      <td>...</td>\n",
              "      <td>...</td>\n",
              "    </tr>\n",
              "    <tr>\n",
              "      <th>2025-03-19</th>\n",
              "      <td>163.889999</td>\n",
              "      <td>0.04190</td>\n",
              "      <td>0.019843</td>\n",
              "      <td>0.301438</td>\n",
              "    </tr>\n",
              "    <tr>\n",
              "      <th>2025-03-20</th>\n",
              "      <td>162.800003</td>\n",
              "      <td>0.04182</td>\n",
              "      <td>-0.006673</td>\n",
              "      <td>0.300354</td>\n",
              "    </tr>\n",
              "    <tr>\n",
              "      <th>2025-03-21</th>\n",
              "      <td>163.990005</td>\n",
              "      <td>0.04185</td>\n",
              "      <td>0.007283</td>\n",
              "      <td>0.299311</td>\n",
              "    </tr>\n",
              "    <tr>\n",
              "      <th>2025-03-24</th>\n",
              "      <td>167.679993</td>\n",
              "      <td>0.04182</td>\n",
              "      <td>0.022252</td>\n",
              "      <td>0.302932</td>\n",
              "    </tr>\n",
              "    <tr>\n",
              "      <th>2025-03-25</th>\n",
              "      <td>170.559998</td>\n",
              "      <td>0.04182</td>\n",
              "      <td>0.017030</td>\n",
              "      <td>0.303704</td>\n",
              "    </tr>\n",
              "  </tbody>\n",
              "</table>\n",
              "<p>251 rows × 4 columns</p>\n",
              "</div>"
            ],
            "text/plain": [
              "Ticker           GOOGL      IRX   log_ret  Vol_GOOGL\n",
              "Date                                                \n",
              "2024-03-25         NaN  0.05218       NaN        NaN\n",
              "2024-03-26  149.953079  0.05218       NaN        NaN\n",
              "2024-03-27  150.152115  0.05215  0.001326        NaN\n",
              "2024-03-28  150.211838  0.05203  0.000398        NaN\n",
              "2024-04-01  154.750153  0.05218  0.029765        NaN\n",
              "...                ...      ...       ...        ...\n",
              "2025-03-19  163.889999  0.04190  0.019843   0.301438\n",
              "2025-03-20  162.800003  0.04182 -0.006673   0.300354\n",
              "2025-03-21  163.990005  0.04185  0.007283   0.299311\n",
              "2025-03-24  167.679993  0.04182  0.022252   0.302932\n",
              "2025-03-25  170.559998  0.04182  0.017030   0.303704\n",
              "\n",
              "[251 rows x 4 columns]"
            ]
          },
          "execution_count": 8,
          "metadata": {},
          "output_type": "execute_result"
        }
      ],
      "source": [
        "# computing volatility\n",
        "dates_vol = data.index\n",
        "\n",
        "data['Vol_GOOGL'] = np.nan\n",
        "for date in dates_vol[125:]:  # 120 days for 6 months (without weekends)\n",
        "    data_for_vol = dates_vol[(date - dates_vol < pd.Timedelta(days=180)) & (date - dates_vol >= pd.Timedelta(days=0))]\n",
        "    data.loc[date, 'Vol_GOOGL'] = np.std(data['log_ret'][data_for_vol].values, ddof=1)*np.sqrt(252) # anualized volatility\n",
        "\n",
        "data"
      ]
    },
    {
      "cell_type": "code",
      "execution_count": 12,
      "metadata": {},
      "outputs": [],
      "source": [
        "# drop  null values\n",
        "data = data[data['Vol_GOOGL'].notnull()]"
      ]
    },
    {
      "cell_type": "code",
      "execution_count": 13,
      "metadata": {},
      "outputs": [
        {
          "data": {
            "image/png": "[encoded data removed]",
            "text/plain": [
              "<Figure size 640x480 with 1 Axes>"
            ]
          },
          "metadata": {},
          "output_type": "display_data"
        }
      ],
      "source": [
        "data['GOOGL'].plot()\n",
        "plt.grid()"
      ]
    },
    {
      "cell_type": "code",
      "execution_count": 15,
      "metadata": {},
      "outputs": [
        {
          "data": {
            "text/plain": [
              "<Axes: xlabel='Date'>"
            ]
          },
          "execution_count": 15,
          "metadata": {},
          "output_type": "execute_result"
        },
        {
          "data": {
            "image/png": "[encoded data removed]",
            "text/plain": [
              "<Figure size 640x480 with 1 Axes>"
            ]
          },
          "metadata": {},
          "output_type": "display_data"
        }
      ],
      "source": [
        "data['log_ret'].plot()"
      ]
    },
    {
      "cell_type": "code",
      "execution_count": 14,
      "metadata": {},
      "outputs": [
        {
          "data": {
            "image/png": "[encoded data removed]",
            "text/plain": [
              "<Figure size 640x480 with 1 Axes>"
            ]
          },
          "metadata": {},
          "output_type": "display_data"
        }
      ],
      "source": [
        "data['Vol_GOOGL'].plot()\n",
        "plt.grid()"
      ]
    },
    {
      "cell_type": "markdown",
      "metadata": {},
      "source": [
        "# 4. Modeling with Black-Scholes\n",
        "\n",
        "The Black-Scholes formula for a European call option is given by (solution to the PDE):\n",
        "$$\n",
        "C(S_t, t) = N(d_1) S_t - N(d_2) K e^{-r(T-t)}  \n",
        "$$\n",
        "$$\n",
        "d_1 = \\frac{1}{\\sigma \\sqrt{T-t}} \\left[ \\ln \\left( \\frac{S_t}{K} \\right) + \\left( r + \\frac{\\sigma^2}{2} \\right) (T-t) \\right]\n",
        "$$\n",
        "$$\n",
        "d_2 = d_1 - \\sigma\\sqrt{T-t}\n",
        "$$\n",
        "\n",
        "where:\n",
        "\n",
        "- $ S_t $ is the price of the underlying asset at time $t$.\n",
        "- $ K $ is the strike price (price you are buying the asset).\n",
        "- $ r $ is the risk-free interest rate.\n",
        "- $ T - t $ is the contract's time to expirate.\n",
        "- $ N(\\cdot) $ is the cumulative distribution function of the standard normal distribution.\n",
        "- $ \\sigma^2$ is the standard deviation of the asset subyacent."
      ]
    },
    {
      "cell_type": "markdown",
      "metadata": {},
      "source": [
        "## 4.1 Model Definition"
      ]
    },
    {
      "cell_type": "code",
      "execution_count": null,
      "metadata": {},
      "outputs": [],
      "source": [
        "def bys_call(spot: float, \n",
        "             strike: float, \n",
        "             risk_free: float, \n",
        "             vol: float, \n",
        "             time: float) -> float:\n",
        "    \"\"\"\n",
        "    Calculates the value of a European call option using the Black-Scholes model.\n",
        "\n",
        "    Args:\n",
        "        spot (float): Current price of the underlying asset.\n",
        "        strike (float): Strike price of the option.\n",
        "        risk_free (float): Risk-free interest rate (in decimal, e.g., 0.05 for 5%).\n",
        "        vol (float): Volatility of the underlying asset (in decimal, e.g., 0.2 for 20%).\n",
        "        tiempo (float): Time to expiration in days.\n",
        "\n",
        "    Returns:\n",
        "        float: The theoretical value of the call option. (prime to pay)\n",
        "    \"\"\"\n",
        "    # Convert time from days to years\n",
        "    time_in_years = time / 360.0\n",
        "\n",
        "    # Calculate d1 and d2 according to the Black-Scholes formula\n",
        "    d1 = (np.log(spot / strike) + (risk_free + 0.5 * vol**2) * time_in_years) / (vol * np.sqrt(time_in_years))\n",
        "    d2 = d1 - vol * np.sqrt(time_in_years)\n",
        "\n",
        "    # Calculate the call option value using the cumulative distribution function of the normal distribution\n",
        "    call_value = spot * norm.cdf(d1) - strike * np.exp(-risk_free * time_in_years) * norm.cdf(d2)\n",
        "\n",
        "    return call_value"
      ]
    },
    {
      "cell_type": "markdown",
      "metadata": {},
      "source": [
        "## 4.2 Examples of use"
      ]
    },
    {
      "cell_type": "code",
      "execution_count": 24,
      "metadata": {},
      "outputs": [
        {
          "data": {
            "text/html": [
              "<div>\n",
              "<style scoped>\n",
              "    .dataframe tbody tr th:only-of-type {\n",
              "        vertical-align: middle;\n",
              "    }\n",
              "\n",
              "    .dataframe tbody tr th {\n",
              "        vertical-align: top;\n",
              "    }\n",
              "\n",
              "    .dataframe thead th {\n",
              "        text-align: right;\n",
              "    }\n",
              "</style>\n",
              "<table border=\"1\" class=\"dataframe\">\n",
              "  <thead>\n",
              "    <tr style=\"text-align: right;\">\n",
              "      <th>Ticker</th>\n",
              "      <th>GOOGL</th>\n",
              "      <th>IRX</th>\n",
              "      <th>log_ret</th>\n",
              "      <th>Vol_GOOGL</th>\n",
              "    </tr>\n",
              "    <tr>\n",
              "      <th>Date</th>\n",
              "      <th></th>\n",
              "      <th></th>\n",
              "      <th></th>\n",
              "      <th></th>\n",
              "    </tr>\n",
              "  </thead>\n",
              "  <tbody>\n",
              "    <tr>\n",
              "      <th>2025-03-05</th>\n",
              "      <td>172.820969</td>\n",
              "      <td>0.04205</td>\n",
              "      <td>0.012212</td>\n",
              "      <td>0.290688</td>\n",
              "    </tr>\n",
              "    <tr>\n",
              "      <th>2025-03-06</th>\n",
              "      <td>172.151733</td>\n",
              "      <td>0.04197</td>\n",
              "      <td>-0.003880</td>\n",
              "      <td>0.289584</td>\n",
              "    </tr>\n",
              "    <tr>\n",
              "      <th>2025-03-07</th>\n",
              "      <td>173.660004</td>\n",
              "      <td>0.04197</td>\n",
              "      <td>0.008723</td>\n",
              "      <td>0.288609</td>\n",
              "    </tr>\n",
              "    <tr>\n",
              "      <th>2025-03-10</th>\n",
              "      <td>165.869995</td>\n",
              "      <td>0.04185</td>\n",
              "      <td>-0.045895</td>\n",
              "      <td>0.297149</td>\n",
              "    </tr>\n",
              "    <tr>\n",
              "      <th>2025-03-11</th>\n",
              "      <td>164.039993</td>\n",
              "      <td>0.04195</td>\n",
              "      <td>-0.011094</td>\n",
              "      <td>0.295863</td>\n",
              "    </tr>\n",
              "    <tr>\n",
              "      <th>2025-03-12</th>\n",
              "      <td>167.110001</td>\n",
              "      <td>0.04197</td>\n",
              "      <td>0.018542</td>\n",
              "      <td>0.295962</td>\n",
              "    </tr>\n",
              "    <tr>\n",
              "      <th>2025-03-13</th>\n",
              "      <td>162.759995</td>\n",
              "      <td>0.04188</td>\n",
              "      <td>-0.026376</td>\n",
              "      <td>0.297247</td>\n",
              "    </tr>\n",
              "    <tr>\n",
              "      <th>2025-03-14</th>\n",
              "      <td>165.490005</td>\n",
              "      <td>0.04188</td>\n",
              "      <td>0.016634</td>\n",
              "      <td>0.296952</td>\n",
              "    </tr>\n",
              "    <tr>\n",
              "      <th>2025-03-17</th>\n",
              "      <td>164.289993</td>\n",
              "      <td>0.04188</td>\n",
              "      <td>-0.007278</td>\n",
              "      <td>0.299328</td>\n",
              "    </tr>\n",
              "    <tr>\n",
              "      <th>2025-03-18</th>\n",
              "      <td>160.669998</td>\n",
              "      <td>0.04195</td>\n",
              "      <td>-0.022281</td>\n",
              "      <td>0.300349</td>\n",
              "    </tr>\n",
              "    <tr>\n",
              "      <th>2025-03-19</th>\n",
              "      <td>163.889999</td>\n",
              "      <td>0.04190</td>\n",
              "      <td>0.019843</td>\n",
              "      <td>0.301438</td>\n",
              "    </tr>\n",
              "    <tr>\n",
              "      <th>2025-03-20</th>\n",
              "      <td>162.800003</td>\n",
              "      <td>0.04182</td>\n",
              "      <td>-0.006673</td>\n",
              "      <td>0.300354</td>\n",
              "    </tr>\n",
              "    <tr>\n",
              "      <th>2025-03-21</th>\n",
              "      <td>163.990005</td>\n",
              "      <td>0.04185</td>\n",
              "      <td>0.007283</td>\n",
              "      <td>0.299311</td>\n",
              "    </tr>\n",
              "    <tr>\n",
              "      <th>2025-03-24</th>\n",
              "      <td>167.679993</td>\n",
              "      <td>0.04182</td>\n",
              "      <td>0.022252</td>\n",
              "      <td>0.302932</td>\n",
              "    </tr>\n",
              "    <tr>\n",
              "      <th>2025-03-25</th>\n",
              "      <td>170.559998</td>\n",
              "      <td>0.04182</td>\n",
              "      <td>0.017030</td>\n",
              "      <td>0.303704</td>\n",
              "    </tr>\n",
              "  </tbody>\n",
              "</table>\n",
              "</div>"
            ],
            "text/plain": [
              "Ticker           GOOGL      IRX   log_ret  Vol_GOOGL\n",
              "Date                                                \n",
              "2025-03-05  172.820969  0.04205  0.012212   0.290688\n",
              "2025-03-06  172.151733  0.04197 -0.003880   0.289584\n",
              "2025-03-07  173.660004  0.04197  0.008723   0.288609\n",
              "2025-03-10  165.869995  0.04185 -0.045895   0.297149\n",
              "2025-03-11  164.039993  0.04195 -0.011094   0.295863\n",
              "2025-03-12  167.110001  0.04197  0.018542   0.295962\n",
              "2025-03-13  162.759995  0.04188 -0.026376   0.297247\n",
              "2025-03-14  165.490005  0.04188  0.016634   0.296952\n",
              "2025-03-17  164.289993  0.04188 -0.007278   0.299328\n",
              "2025-03-18  160.669998  0.04195 -0.022281   0.300349\n",
              "2025-03-19  163.889999  0.04190  0.019843   0.301438\n",
              "2025-03-20  162.800003  0.04182 -0.006673   0.300354\n",
              "2025-03-21  163.990005  0.04185  0.007283   0.299311\n",
              "2025-03-24  167.679993  0.04182  0.022252   0.302932\n",
              "2025-03-25  170.559998  0.04182  0.017030   0.303704"
            ]
          },
          "execution_count": 24,
          "metadata": {},
          "output_type": "execute_result"
        }
      ],
      "source": [
        "data.tail(15)"
      ]
    },
    {
      "cell_type": "code",
      "execution_count": 20,
      "metadata": {},
      "outputs": [
        {
          "data": {
            "text/plain": [
              "Ticker\n",
              "GOOGL        170.559998\n",
              "IRX            0.041820\n",
              "log_ret        0.017030\n",
              "Vol_GOOGL      0.303704\n",
              "Name: 2025-03-25 00:00:00, dtype: float64"
            ]
          },
          "execution_count": 20,
          "metadata": {},
          "output_type": "execute_result"
        }
      ],
      "source": [
        "un_dato = data.iloc[-1,:].copy()\n",
        "un_dato"
      ]
    },
    {
      "cell_type": "code",
      "execution_count": null,
      "metadata": {},
      "outputs": [
        {
          "data": {
            "text/plain": [
              "np.float64(2.5468536800489048)"
            ]
          },
          "execution_count": 22,
          "metadata": {},
          "output_type": "execute_result"
        }
      ],
      "source": [
        "bys_call(\n",
        "    spot = un_dato['GOOGL'], \n",
        "    strike = un_dato['GOOGL'] + 10, # 10 dollars above the current price\n",
        "    risk_free = un_dato['IRX'], \n",
        "    vol = un_dato['Vol_GOOGL'], \n",
        "    time = 30 # days\n",
        ")\n",
        "     "
      ]
    },
    {
      "cell_type": "code",
      "execution_count": 26,
      "metadata": {},
      "outputs": [
        {
          "data": {
            "text/plain": [
              "np.float64(6.25459665391503)"
            ]
          },
          "execution_count": 26,
          "metadata": {},
          "output_type": "execute_result"
        }
      ],
      "source": [
        "bys_call(\n",
        "    spot = un_dato['GOOGL'], \n",
        "    strike = un_dato['GOOGL'] + 0, # same price\n",
        "    risk_free = un_dato['IRX'], \n",
        "    vol = un_dato['Vol_GOOGL'], \n",
        "    time = 30 # days\n",
        ")\n",
        "     "
      ]
    },
    {
      "cell_type": "code",
      "execution_count": 27,
      "metadata": {},
      "outputs": [
        {
          "data": {
            "text/plain": [
              "np.float64(12.527401517652649)"
            ]
          },
          "execution_count": 27,
          "metadata": {},
          "output_type": "execute_result"
        }
      ],
      "source": [
        "bys_call(\n",
        "    spot = un_dato['GOOGL'], \n",
        "    strike = un_dato['GOOGL'] - 10, # 10 dollars below the current price\n",
        "    risk_free = un_dato['IRX'], \n",
        "    vol = un_dato['Vol_GOOGL'], \n",
        "    time = 30 # days\n",
        ")\n",
        "     "
      ]
    },
    {
      "cell_type": "markdown",
      "metadata": {},
      "source": [
        "## 4.2 Apply to all dataset"
      ]
    },
    {
      "cell_type": "code",
      "execution_count": null,
      "metadata": {},
      "outputs": [
        {
          "name": "stderr",
          "output_type": "stream",
          "text": [
            "/var/folders/dv/9p478lkj2vs4k52t0dflfcb1qd6rhx/T/ipykernel_49431/546157043.py:1: SettingWithCopyWarning: \n",
            "A value is trying to be set on a copy of a slice from a DataFrame.\n",
            "Try using .loc[row_indexer,col_indexer] = value instead\n",
            "\n",
            "See the caveats in the documentation: https://pandas.pydata.org/pandas-docs/stable/user_guide/indexing.html#returning-a-view-versus-a-copy\n",
            "  data['call_price'] = data.apply(\n"
          ]
        }
      ],
      "source": [
        "data['call_price'] = data.apply(\n",
        "    lambda x: bys_call(\n",
        "        spot = x['GOOGL'], \n",
        "        strike = x['GOOGL'] + 10, # 10 dollars above the current price\n",
        "        risk_free = x['IRX'], \n",
        "        vol = x['Vol_GOOGL'], \n",
        "        time = 30 # days\n",
        "        ), \n",
        "    axis=1\n",
        "    )\n"
      ]
    },
    {
      "cell_type": "code",
      "execution_count": 30,
      "metadata": {},
      "outputs": [
        {
          "data": {
            "text/html": [
              "<div>\n",
              "<style scoped>\n",
              "    .dataframe tbody tr th:only-of-type {\n",
              "        vertical-align: middle;\n",
              "    }\n",
              "\n",
              "    .dataframe tbody tr th {\n",
              "        vertical-align: top;\n",
              "    }\n",
              "\n",
              "    .dataframe thead th {\n",
              "        text-align: right;\n",
              "    }\n",
              "</style>\n",
              "<table border=\"1\" class=\"dataframe\">\n",
              "  <thead>\n",
              "    <tr style=\"text-align: right;\">\n",
              "      <th>Ticker</th>\n",
              "      <th>GOOGL</th>\n",
              "      <th>IRX</th>\n",
              "      <th>log_ret</th>\n",
              "      <th>Vol_GOOGL</th>\n",
              "      <th>call_price</th>\n",
              "    </tr>\n",
              "    <tr>\n",
              "      <th>Date</th>\n",
              "      <th></th>\n",
              "      <th></th>\n",
              "      <th></th>\n",
              "      <th></th>\n",
              "      <th></th>\n",
              "    </tr>\n",
              "  </thead>\n",
              "  <tbody>\n",
              "    <tr>\n",
              "      <th>2024-09-23</th>\n",
              "      <td>161.478745</td>\n",
              "      <td>0.04503</td>\n",
              "      <td>-0.010693</td>\n",
              "      <td>0.278190</td>\n",
              "      <td>1.900131</td>\n",
              "    </tr>\n",
              "    <tr>\n",
              "      <th>2024-09-24</th>\n",
              "      <td>161.917725</td>\n",
              "      <td>0.04495</td>\n",
              "      <td>0.002715</td>\n",
              "      <td>0.278207</td>\n",
              "      <td>1.911495</td>\n",
              "    </tr>\n",
              "    <tr>\n",
              "      <th>2024-09-25</th>\n",
              "      <td>161.119568</td>\n",
              "      <td>0.04487</td>\n",
              "      <td>-0.004942</td>\n",
              "      <td>0.277186</td>\n",
              "      <td>1.875376</td>\n",
              "    </tr>\n",
              "    <tr>\n",
              "      <th>2024-09-26</th>\n",
              "      <td>162.356720</td>\n",
              "      <td>0.04468</td>\n",
              "      <td>0.007649</td>\n",
              "      <td>0.276250</td>\n",
              "      <td>1.892577</td>\n",
              "    </tr>\n",
              "    <tr>\n",
              "      <th>2024-09-27</th>\n",
              "      <td>163.573929</td>\n",
              "      <td>0.04482</td>\n",
              "      <td>0.007469</td>\n",
              "      <td>0.275313</td>\n",
              "      <td>1.910177</td>\n",
              "    </tr>\n",
              "  </tbody>\n",
              "</table>\n",
              "</div>"
            ],
            "text/plain": [
              "Ticker           GOOGL      IRX   log_ret  Vol_GOOGL  call_price\n",
              "Date                                                            \n",
              "2024-09-23  161.478745  0.04503 -0.010693   0.278190    1.900131\n",
              "2024-09-24  161.917725  0.04495  0.002715   0.278207    1.911495\n",
              "2024-09-25  161.119568  0.04487 -0.004942   0.277186    1.875376\n",
              "2024-09-26  162.356720  0.04468  0.007649   0.276250    1.892577\n",
              "2024-09-27  163.573929  0.04482  0.007469   0.275313    1.910177"
            ]
          },
          "execution_count": 30,
          "metadata": {},
          "output_type": "execute_result"
        }
      ],
      "source": [
        "data.head()"
      ]
    },
    {
      "cell_type": "code",
      "execution_count": 33,
      "metadata": {},
      "outputs": [
        {
          "data": {
            "text/plain": [
              "<Axes: >"
            ]
          },
          "execution_count": 33,
          "metadata": {},
          "output_type": "execute_result"
        },
        {
          "data": {
            "image/png": "[encoded data removed]",
            "text/plain": [
              "<Figure size 640x480 with 1 Axes>"
            ]
          },
          "metadata": {},
          "output_type": "display_data"
        }
      ],
      "source": [
        "data['call_price'].hist()"
      ]
    },
    {
      "cell_type": "code",
      "execution_count": null,
      "metadata": {},
      "outputs": [
        {
          "data": {
            "text/plain": [
              "<Axes: xlabel='Date'>"
            ]
          },
          "metadata": {},
          "output_type": "display_data"
        },
        {
          "data": {
            "image/png": "[encoded data removed]",
            "text/plain": [
              "<Figure size 640x480 with 1 Axes>"
            ]
          },
          "metadata": {},
          "output_type": "display_data"
        }
      ],
      "source": [
        "data['GOOGL'].plot()"
      ]
    },
    {
      "cell_type": "code",
      "execution_count": 35,
      "metadata": {},
      "outputs": [
        {
          "data": {
            "text/plain": [
              "<Axes: xlabel='Date'>"
            ]
          },
          "execution_count": 35,
          "metadata": {},
          "output_type": "execute_result"
        },
        {
          "data": {
            "image/png": "[encoded data removed]",
            "text/plain": [
              "<Figure size 640x480 with 1 Axes>"
            ]
          },
          "metadata": {},
          "output_type": "display_data"
        }
      ],
      "source": [
        "data['call_price'].plot()"
      ]
    },
    {
      "cell_type": "markdown",
      "metadata": {},
      "source": []
    }
  ],
  "metadata": {
    "colab": {
      "provenance": [],
      "toc_visible": true
    },
    "kernelspec": {
      "display_name": ".venv",
      "language": "python",
      "name": "python3"
    },
    "language_info": {
      "codemirror_mode": {
        "name": "ipython",
        "version": 3
      },
      "file_extension": ".py",
      "mimetype": "text/x-python",
      "name": "python",
      "nbconvert_exporter": "python",
      "pygments_lexer": "ipython3",
      "version": "3.11.4"
    }
  },
  "nbformat": 4,
  "nbformat_minor": 0
}

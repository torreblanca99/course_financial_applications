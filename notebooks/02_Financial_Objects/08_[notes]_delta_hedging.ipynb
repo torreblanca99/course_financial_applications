{
  "cells": [
    {
      "cell_type": "markdown",
      "metadata": {
        "id": "lJCTTJlsjPtA"
      },
      "source": [
        "# **Financial Applicactions with ML & AI**\n",
        "\n",
        "<img style=\"float: right;\" src=\"https://github.com/torreblanca99/course_financial_applications/blob/develop/docs/img/logo_bourbaki.png?raw=1\" width=\"100\"/>\n",
        "\n",
        "## **Module II:** Value Risk\n",
        "#### Topic: Delta Hedging\n",
        "\n",
        "##### Name: Julio César Avila Torreblanca\n",
        "\n",
        "- **Objective**: apply Delta Hedging\n",
        "- **Contents**:\n",
        "    - Notes:\n",
        "        - Delta Hedging\n",
        "    - Code:\n",
        "        1. Libraries and parameters\n",
        "        2. Examples with synthetic data\n",
        "        3. Exercises with a real asset\n",
        "----"
      ]
    },
    {
      "cell_type": "markdown",
      "metadata": {
        "id": "828NbCQ7jPtB"
      },
      "source": [
        "# Delta Hedging\n",
        "\n",
        "## Introduction\n",
        "\n",
        "Delta hedging is a risk management strategy used in options trading to reduce or eliminate the directional risk associated with price movements of the underlying asset. Delta $(\\Delta$) represents the rate of change in the option's price for a one-unit change in the price of the underlying asset.\n",
        "\n",
        "## Purpose\n",
        "\n",
        "The main goal of delta hedging is to create a delta-neutral position, where the overall delta of the portfolio equals zero. This means the portfolio is theoretically immune to small price movements in the underlying asset.\n",
        "\n",
        "## Mathematical Representation\n",
        "\n",
        "For an option on an underlying asset:\n",
        "- **Delta ($\\Delta$)** is expressed mathematically as:\n",
        "  $$\n",
        "  \\Delta = \\frac{\\partial V}{\\partial S}\n",
        "  $$\n",
        "  where $V$ is the value of the option and $S$ is the underlying asset price.\n",
        "\n",
        "- **Gamma ($\\Gamma$)** measures the rate of change of Delta with respect to changes in the underlying asset price and is given by:\n",
        "  $$\n",
        "  \\Gamma = \\frac{\\partial^2 V}{\\partial S^2}\n",
        "  $$\n",
        "  This represents how sensitive the delta is to movements in the underlying price.\n",
        "\n",
        "## Delta Hedging Strategy\n",
        "\n",
        "1. **Calculate Delta:**\n",
        "   Determine the delta of the option position.\n",
        "\n",
        "2. **Establish a Hedge:**\n",
        "   Adjust the position by buying or selling the appropriate amount of the underlying asset to offset the option's delta.\n",
        "\n",
        "3. **Rebalance Regularly:**\n",
        "   As the price of the underlying asset changes and time to expiration decreases, the delta changes. Adjustments are required to maintain delta neutrality.\n",
        "\n",
        "## Practical Example\n",
        "\n",
        "Let's assume you own a call option on Alphabet Inc. (GOOGL):\n",
        "\n",
        "- Current price of GOOGL: $2,700 per share.\n",
        "- Delta of the call option: 0.6\n",
        "- Number of call options: 10 (each contract typically represents 100 shares)\n",
        "\n",
        "### Step-by-Step\n",
        "\n",
        "1. **Calculate the Total Delta of the Options Position:**\n",
        "   $$\n",
        "   \\text{Total Delta} = 0.6 \\times 10 \\times 100 = 600\n",
        "   $$\n",
        "\n",
        "2. **Create a Delta-Neutral Portfolio:**\n",
        "   To neutralize this delta, you need to short 600 shares of GOOGL.\n",
        "\n",
        "3. **Monitor and Rebalance:**\n",
        "   As GOOGL's price or the option's delta changes, you must adjust the hedge by buying or selling shares to maintain a delta-neutral position.\n",
        "\n",
        "## Advantages\n",
        "\n",
        "- **Risk Reduction:** Mitigates potential losses from small movements in the underlying asset's price.\n",
        "\n",
        "## Disadvantages\n",
        "\n",
        "- **Frequent Adjustments:** Requires continuous monitoring and trading, which incurs transaction costs.\n",
        "\n",
        "- **Complexity and Imperfection:** While delta hedging addresses small price changes, it may not fully protect against larger movements or changes in implied volatility.\n",
        "\n",
        "Delta hedging is fundamental for risk management in options trading, allowing traders to maintain portfolio value stability despite market volatility.\n",
        "\n",
        "---"
      ]
    },
    {
      "cell_type": "markdown",
      "metadata": {
        "id": "Vk_KwuuOjPtB"
      },
      "source": [
        "# 1. Libreries and parameters"
      ]
    },
    {
      "cell_type": "code",
      "execution_count": 1,
      "metadata": {
        "id": "fzIn-EZFjPtB"
      },
      "outputs": [],
      "source": [
        "import math\n",
        "from scipy.stats import norm\n",
        "import numpy as np"
      ]
    },
    {
      "cell_type": "markdown",
      "metadata": {},
      "source": [
        "## 1.1 Functions\n",
        "\n",
        "Next functions creates a portfolio in which the weights assigned to each asset will be taken as the inverse-variances (more secure inversions)."
      ]
    },
    {
      "cell_type": "code",
      "execution_count": 2,
      "metadata": {},
      "outputs": [],
      "source": [
        "# Define una opción de tipo Call Europeo\n",
        "class EuropeanCall:\n",
        "    # Call delta\n",
        "    def call_delta(\n",
        "            self, asset_price, asset_volatility, strike_price,\n",
        "            time_to_expiration, risk_free_rate\n",
        "    ):\n",
        "        b = math.exp(-risk_free_rate * time_to_expiration)\n",
        "        x1 = math.log(asset_price / (b * strike_price)) + .5 * (\n",
        "                asset_volatility * asset_volatility) * time_to_expiration\n",
        "        x1 = x1 / (asset_volatility * (time_to_expiration ** .5))\n",
        "        z1 = norm.cdf(x1)\n",
        "        return z1\n",
        "\n",
        "    # Call gamma\n",
        "    def call_gamma(\n",
        "        self, asset_price, asset_volatility, strike_price,\n",
        "        time_to_expiration, risk_free_rate\n",
        "    ):\n",
        "        b = math.exp(-risk_free_rate * time_to_expiration)\n",
        "        x1 = math.log(asset_price / (b * strike_price)) + .5 * (\n",
        "                asset_volatility * asset_volatility) * time_to_expiration\n",
        "        x1 = x1 / (asset_volatility * (time_to_expiration ** .5))\n",
        "        z1 = norm.cdf(x1)\n",
        "        z2 = z1 / (asset_price * asset_volatility * math.sqrt(time_to_expiration))\n",
        "        return z2\n",
        "\n",
        "    def call_price(\n",
        "            self, asset_price, asset_volatility, strike_price,\n",
        "            time_to_expiration, risk_free_rate\n",
        "    ):\n",
        "        b = math.exp(-risk_free_rate * time_to_expiration)\n",
        "        x1 = math.log(asset_price / (b * strike_price)) + .5 * (\n",
        "                    asset_volatility * asset_volatility) * time_to_expiration\n",
        "        x1 = x1 / (asset_volatility * (time_to_expiration ** .5))\n",
        "        z1 = norm.cdf(x1)\n",
        "        z1 = z1 * asset_price\n",
        "        x2 = math.log(asset_price / (b * strike_price)) - .5 * (\n",
        "                    asset_volatility * asset_volatility) * time_to_expiration\n",
        "        x2 = x2 / (asset_volatility * (time_to_expiration ** .5))\n",
        "        z2 = norm.cdf(x2)\n",
        "        z2 = b * strike_price * z2\n",
        "        return z1 - z2\n",
        "\n",
        "    def __init__(\n",
        "            self, asset_price, asset_volatility, strike_price,\n",
        "            time_to_expiration, risk_free_rate\n",
        "    ):\n",
        "        self.asset_price = asset_price\n",
        "        self.asset_volatility = asset_volatility\n",
        "        self.strike_price = strike_price\n",
        "        self.time_to_expiration = time_to_expiration\n",
        "        self.risk_free_rate = risk_free_rate\n",
        "        self.price = self.call_price(asset_price, asset_volatility, strike_price, time_to_expiration, risk_free_rate)\n",
        "        self.delta = self.call_delta(asset_price, asset_volatility, strike_price, time_to_expiration, risk_free_rate)\n",
        "        self.gamma = self.call_gamma(asset_price, asset_volatility, strike_price, time_to_expiration, risk_free_rate)"
      ]
    },
    {
      "cell_type": "code",
      "execution_count": 3,
      "metadata": {},
      "outputs": [],
      "source": [
        "# Define una opción de tipo Put Europeo\n",
        "class EuropeanPut:\n",
        "    # Put delta\n",
        "    def put_delta(\n",
        "            self, asset_price, asset_volatility, strike_price,\n",
        "            time_to_expiration, risk_free_rate\n",
        "    ):\n",
        "        b = math.exp(-risk_free_rate * time_to_expiration)\n",
        "        x1 = math.log(asset_price / (b * strike_price)) + .5 * (\n",
        "                    asset_volatility * asset_volatility) * time_to_expiration\n",
        "        x1 = x1 / (asset_volatility * (time_to_expiration ** .5))\n",
        "        z1 = norm.cdf(x1)\n",
        "        return z1 - 1\n",
        "\n",
        "    # Put gamma\n",
        "    def put_gamma(\n",
        "        self, asset_price, asset_volatility, strike_price,\n",
        "        time_to_expiration, risk_free_rate\n",
        "    ):\n",
        "        b = math.exp(-risk_free_rate * time_to_expiration)\n",
        "        x1 = math.log(asset_price / (b * strike_price)) + .5 * (\n",
        "                asset_volatility * asset_volatility) * time_to_expiration\n",
        "        x1 = x1 / (asset_volatility * (time_to_expiration ** .5))\n",
        "        z1 = norm.cdf(x1)\n",
        "        z2 = z1 / (asset_price * asset_volatility * math.sqrt(time_to_expiration))\n",
        "        return z2\n",
        "\n",
        "    def put_price(\n",
        "            self, asset_price, asset_volatility, strike_price,\n",
        "            time_to_expiration, risk_free_rate\n",
        "    ):\n",
        "        b = math.exp(-risk_free_rate * time_to_expiration)\n",
        "        x1 = math.log((b * strike_price) / asset_price) + .5 * (\n",
        "                    asset_volatility * asset_volatility) * time_to_expiration\n",
        "        x1 = x1 / (asset_volatility * (time_to_expiration ** .5))\n",
        "        z1 = norm.cdf(x1)\n",
        "        z1 = b * strike_price * z1\n",
        "        x2 = math.log((b * strike_price) / asset_price) - .5 * (\n",
        "                    asset_volatility * asset_volatility) * time_to_expiration\n",
        "        x2 = x2 / (asset_volatility * (time_to_expiration ** .5))\n",
        "        z2 = norm.cdf(x2)\n",
        "        z2 = asset_price * z2\n",
        "        return z1 - z2\n",
        "\n",
        "    def __init__(\n",
        "            self, asset_price, asset_volatility, strike_price,\n",
        "            time_to_expiration, risk_free_rate\n",
        "    ):\n",
        "        self.asset_price = asset_price\n",
        "        self.asset_volatility = asset_volatility\n",
        "        self.strike_price = strike_price\n",
        "        self.time_to_expiration = time_to_expiration\n",
        "        self.risk_free_rate = risk_free_rate\n",
        "        self.price = self.put_price(asset_price, asset_volatility, strike_price, time_to_expiration, risk_free_rate)\n",
        "        self.delta = self.call_delta(asset_price, asset_volatility, strike_price, time_to_expiration, risk_free_rate)\n",
        "        self.gamma = self.put_gamma(asset_price, asset_volatility, strike_price, time_to_expiration, risk_free_rate)"
      ]
    },
    {
      "cell_type": "markdown",
      "metadata": {},
      "source": [
        "# 2. Exmaple 1 with synthetic data"
      ]
    },
    {
      "cell_type": "code",
      "execution_count": 4,
      "metadata": {},
      "outputs": [],
      "source": [
        "# asset_price : underlying asset price\n",
        "# sigma       : implied volatility for the Black-Scholes model input\n",
        "# dt          : time to expiration\n",
        "# rf          : risk-free rate (e.g., treasury bonds or government bills, depending on the country)\n",
        "# nContract1  : number of contracts\n",
        "# K1          : strike price of option 1\n",
        "# K2          : strike price of option 2\n",
        "# K3          : strike price of option 3\n",
        "\n",
        "# Underlying asset price\n",
        "asset_price = 543\n",
        "\n",
        "# Black-Scholes input\n",
        "sigma = 0.53\n",
        "dt = 30/365\n",
        "rf = 0.015\n",
        "\n",
        "# Option 1\n",
        "nContract1 = -1000\n",
        "K1 = 545\n",
        "\n",
        "# Option 2\n",
        "K2 = 540\n",
        "\n",
        "# Option 3\n",
        "K3 = 555"
      ]
    },
    {
      "cell_type": "markdown",
      "metadata": {},
      "source": [
        "## 2.1 Compute call and greeks for the the fisrt option"
      ]
    },
    {
      "cell_type": "code",
      "execution_count": 5,
      "metadata": {},
      "outputs": [
        {
          "name": "stdout",
          "output_type": "stream",
          "text": [
            "Theoretical Initial Portfolio value: $32,264.1\n",
            "Initial Portfolio Greeks:\n",
            "Delta: -523.8788365375873\n",
            "Gamma: -6.3495209433350475\n"
          ]
        }
      ],
      "source": [
        "# Position with a single option\n",
        "option1 = EuropeanCall(\n",
        "    asset_price=asset_price,\n",
        "    asset_volatility=sigma,\n",
        "    strike_price=K1,\n",
        "    time_to_expiration=dt,\n",
        "    risk_free_rate=rf\n",
        ")\n",
        "\n",
        "# Theoretical initial portfolio value:\n",
        "print(f'Theoretical Initial Portfolio value: ${option1.price * abs(nContract1):,.1f}')\n",
        "\n",
        "# Calculate and print portfolio Greeks (adjusted for the number of contracts)\n",
        "print('Initial Portfolio Greeks:\\n'\n",
        "      'Delta: {}\\n'\n",
        "      'Gamma: {}'.format(option1.delta * nContract1, option1.gamma * nContract1))"
      ]
    },
    {
      "cell_type": "markdown",
      "metadata": {},
      "source": [
        "- ***Delta*** represents the sensitivity of the option's price to changes in the price of the underlying asset. In other words, it tells you how much the option's price is expected to change for a one-unit change in the underlying asset's price. For example, if the delta is 0.6, a $1 increase in the stock price would theoretically result in a $0.60 increase in the option's price.\n",
        "\n",
        "- ***Gamma*** quantifies the rate of change of delta with respect to changes in the underlying asset's price. It measures the curvature or acceleration in the option's price movement as the underlying price changes. A high gamma indicates that delta can change dramatically, meaning the option's price sensitivity is rapidly evolving with movements in the underlying asset. This is especially important for managing risk in dynamic hedging strategies."
      ]
    },
    {
      "cell_type": "markdown",
      "metadata": {},
      "source": [
        "## 2.2 Compute call and greeks for the other two options"
      ]
    },
    {
      "cell_type": "code",
      "execution_count": 6,
      "metadata": {},
      "outputs": [
        {
          "name": "stdout",
          "output_type": "stream",
          "text": [
            "Option 2 - Price: $34,638.0 \n",
            " Delta: 0.5480\n",
            " Gamma: 0.0066\n",
            "Option 3 - Price: $27,873.4 \n",
            " Delta: 0.4762\n",
            " Gamma: 0.0058\n"
          ]
        }
      ],
      "source": [
        "# Price and Greeks for option2 and option3\n",
        "\n",
        "option2 = EuropeanCall(\n",
        "    asset_price=asset_price, \n",
        "    asset_volatility=sigma, \n",
        "    strike_price=K2, \n",
        "    time_to_expiration=dt, \n",
        "    risk_free_rate=rf\n",
        ")\n",
        "\n",
        "option3 = EuropeanCall(\n",
        "    asset_price=asset_price, \n",
        "    asset_volatility=sigma, \n",
        "    strike_price=K3, \n",
        "    time_to_expiration=dt, \n",
        "    risk_free_rate=rf\n",
        ")\n",
        "\n",
        "# Print theoretical prices and Greeks for option2\n",
        "print(f\"Option 2 - Price: ${option2.price* abs(nContract1):,.1f} \\n Delta: {option2.delta:.4f}\\n Gamma: {option2.gamma:.4f}\")\n",
        "\n",
        "# Print theoretical prices and Greeks for option3\n",
        "print(f\"Option 3 - Price: ${option3.price* abs(nContract1):,.1f} \\n Delta: {option3.delta:.4f}\\n Gamma: {option3.gamma:.4f}\")"
      ]
    },
    {
      "cell_type": "markdown",
      "metadata": {},
      "source": [
        "## 2.3 Neutralize both Greeks"
      ]
    },
    {
      "cell_type": "code",
      "execution_count": 7,
      "metadata": {},
      "outputs": [
        {
          "data": {
            "text/plain": [
              "[[np.float64(6.3495209433350475)], [np.float64(523.8788365375873)]]"
            ]
          },
          "execution_count": 7,
          "metadata": {},
          "output_type": "execute_result"
        }
      ],
      "source": [
        "# OPTION 1\n",
        "portfolio_greeks = [\n",
        "    [option1.gamma * abs(nContract1)], \n",
        "    [option1.delta * abs(nContract1)]\n",
        "]\n",
        "\n",
        "portfolio_greeks"
      ]
    },
    {
      "cell_type": "markdown",
      "metadata": {},
      "source": [
        "***Greek values for Option 1 (i.e., what is currently in our portfolio)***\n",
        "\n",
        "$$\n",
        "\\begin{bmatrix} \\Gamma \\\\ \\Delta \\end{bmatrix} = \\begin{bmatrix}6.3495... \\\\  523.8788 \\end{bmatrix}\n",
        "$$"
      ]
    },
    {
      "cell_type": "code",
      "execution_count": 8,
      "metadata": {},
      "outputs": [
        {
          "data": {
            "text/plain": [
              "array([[0.00664158, 0.00577126],\n",
              "       [0.54797566, 0.47616875]])"
            ]
          },
          "execution_count": 8,
          "metadata": {},
          "output_type": "execute_result"
        }
      ],
      "source": [
        "# OPTION 2 & 3 Greeks\n",
        "greeks = np.array([\n",
        "    [option2.gamma, option3.gamma], \n",
        "    [option2.delta, option3.delta]\n",
        "    ])\n",
        "greeks"
      ]
    },
    {
      "cell_type": "code",
      "execution_count": 9,
      "metadata": {},
      "outputs": [
        {
          "name": "stdout",
          "output_type": "stream",
          "text": [
            "Gamma option 2: 0.0066\n",
            "Delta option 2: 0.548\n",
            "Gamma option 3: 0.0058\n",
            "Delta option 3: 0.4762\n"
          ]
        }
      ],
      "source": [
        "print(f'Gamma option 2: {np.round(option2.gamma,4)}\\n'\n",
        "      f'Delta option 2: {np.round(option2.delta,4)}\\n'\n",
        "      f'Gamma option 3: {np.round(option3.gamma,4)}\\n'\n",
        "      f'Delta option 3: {np.round(option3.delta,4)}')\n",
        "     "
      ]
    },
    {
      "cell_type": "markdown",
      "metadata": {},
      "source": [
        "We want to find the position we would have with respect to options 2 and 3, given their Greeks.\n",
        "\n",
        "$$ \\begin{bmatrix} \n",
        "    0.0.0066 & 0.0.0057\\\\ \n",
        "    0.0.548 & 0.4762 \n",
        "    \\end{bmatrix}\n",
        "    \\begin{bmatrix} \n",
        "    w_2 \\\\ \n",
        "    w_3 \n",
        "    \\end{bmatrix}\n",
        "    =\n",
        "    \\begin{bmatrix} \n",
        "    6.3495 \\\\  \n",
        "    523.8788\n",
        "    \\end{bmatrix} \n",
        "$$\n",
        "\n",
        "$$ w = A^{-1} \\cdot A \\cdot w = A^{-1} \\cdot P $$\n"
      ]
    },
    {
      "cell_type": "markdown",
      "metadata": {},
      "source": [
        "How can we neutralize this?"
      ]
    },
    {
      "cell_type": "code",
      "execution_count": 10,
      "metadata": {},
      "outputs": [
        {
          "data": {
            "text/plain": [
              "array([[  6.34952],\n",
              "       [523.87884]])"
            ]
          },
          "execution_count": 10,
          "metadata": {},
          "output_type": "execute_result"
        }
      ],
      "source": [
        "np.round(portfolio_greeks, 5)"
      ]
    },
    {
      "cell_type": "code",
      "execution_count": 11,
      "metadata": {},
      "outputs": [],
      "source": [
        "# Neutralization of Greeks -- delta and gamma\n",
        "inv = np.linalg.inv(np.round(greeks, 5))  # It is recommended to round to avoid issues with matrix inversion\n",
        "\n",
        "# Positions in options 2 and 3 to neutralize delta and gamma\n",
        "w = np.dot(inv, portfolio_greeks)"
      ]
    },
    {
      "cell_type": "code",
      "execution_count": 12,
      "metadata": {},
      "outputs": [
        {
          "data": {
            "text/plain": [
              "array([[-8845.65654317],\n",
              "       [11279.84062217]])"
            ]
          },
          "execution_count": 12,
          "metadata": {},
          "output_type": "execute_result"
        }
      ],
      "source": [
        "w"
      ]
    },
    {
      "cell_type": "code",
      "execution_count": 13,
      "metadata": {},
      "outputs": [
        {
          "data": {
            "text/plain": [
              "array([[  6.34981499],\n",
              "       [523.90309769]])"
            ]
          },
          "execution_count": 13,
          "metadata": {},
          "output_type": "execute_result"
        }
      ],
      "source": [
        "greeks @ w # validate, this is P"
      ]
    },
    {
      "cell_type": "code",
      "execution_count": 15,
      "metadata": {},
      "outputs": [
        {
          "name": "stdout",
          "output_type": "stream",
          "text": [
            "Final Positions: \n",
            "Option 1: -1000 \n",
            "Option 2: -8845.656543165445 \n",
            "Option 3: 11279.84062217176\n"
          ]
        }
      ],
      "source": [
        "print(f'Final Positions: \\n'\n",
        "      f'Option 1: {nContract1} \\n'\n",
        "      f'Option 2: {w[0][0]} \\n'\n",
        "      f'Option 3: {w[1][0]}')"
      ]
    },
    {
      "cell_type": "markdown",
      "metadata": {},
      "source": [
        "To do: (Reduce loss)\n",
        "- Option 1: sell 1000 shares\n",
        "- Option 2: sell 8845 shares\n",
        "- Option 3: buy 11279 shares"
      ]
    },
    {
      "cell_type": "markdown",
      "metadata": {},
      "source": [
        "# 3. Exercise "
      ]
    },
    {
      "cell_type": "code",
      "execution_count": 41,
      "metadata": {},
      "outputs": [],
      "source": [
        "import yfinance as yf\n",
        "import numpy as np\n",
        "from scipy.stats import norm\n",
        "import datetime as dt"
      ]
    },
    {
      "cell_type": "code",
      "execution_count": 47,
      "metadata": {},
      "outputs": [],
      "source": [
        "class EuropeanCall:\n",
        "    \"\"\"\n",
        "    Represents a European Call Option and provides methods to calculate its price, Delta, and Gamma.\n",
        "\n",
        "    Attributes:\n",
        "        asset_price (float): Current price of the underlying asset.\n",
        "        asset_volatility (float): Volatility of the underlying asset.\n",
        "        strike_price (float): Strike price of the option.\n",
        "        time_to_expiration (float): Time to expiration in years.\n",
        "        risk_free_rate (float): Risk-free interest rate.\n",
        "        price (float): Price of the call option.\n",
        "        delta (float): Delta of the call option.\n",
        "        gamma (float): Gamma of the call option.\n",
        "    \"\"\"\n",
        "\n",
        "    def __init__(self, asset_price, asset_volatility, strike_price, time_to_expiration, risk_free_rate):\n",
        "        \"\"\"\n",
        "        Initializes the European Call Option with its parameters and calculates its price, Delta, and Gamma.\n",
        "\n",
        "        Args:\n",
        "            asset_price (float): Current price of the underlying asset.\n",
        "            asset_volatility (float): Volatility of the underlying asset.\n",
        "            strike_price (float): Strike price of the option.\n",
        "            time_to_expiration (float): Time to expiration in years.\n",
        "            risk_free_rate (float): Risk-free interest rate.\n",
        "        \"\"\"\n",
        "        self.asset_price = asset_price\n",
        "        self.asset_volatility = asset_volatility\n",
        "        self.strike_price = strike_price\n",
        "        self.time_to_expiration = time_to_expiration\n",
        "        self.risk_free_rate = risk_free_rate\n",
        "        self.price = self.call_price(asset_price, asset_volatility, strike_price, time_to_expiration, risk_free_rate)\n",
        "        self.delta = self.call_delta(asset_price, asset_volatility, strike_price, time_to_expiration, risk_free_rate)\n",
        "        self.gamma = self.call_gamma(asset_price, asset_volatility, strike_price, time_to_expiration, risk_free_rate)\n",
        "\n",
        "    def call_delta(self, asset_price, asset_volatility, strike_price, time_to_expiration, risk_free_rate):\n",
        "        \"\"\"\n",
        "        Calculates the Delta of the European Call Option.\n",
        "\n",
        "        Args:\n",
        "            asset_price (float): Current price of the underlying asset.\n",
        "            asset_volatility (float): Volatility of the underlying asset.\n",
        "            strike_price (float): Strike price of the option.\n",
        "            time_to_expiration (float): Time to expiration in years.\n",
        "            risk_free_rate (float): Risk-free interest rate.\n",
        "\n",
        "        Returns:\n",
        "            float: Delta of the call option.\n",
        "        \"\"\"\n",
        "        b = math.exp(-risk_free_rate * time_to_expiration)\n",
        "        x1 = (math.log(asset_price / (b * strike_price)) +\n",
        "              0.5 * (asset_volatility ** 2) * time_to_expiration) / (asset_volatility * math.sqrt(time_to_expiration))\n",
        "        return norm.cdf(x1)\n",
        "\n",
        "    def call_gamma(self, asset_price, asset_volatility, strike_price, time_to_expiration, risk_free_rate):\n",
        "        \"\"\"\n",
        "        Calculates the Gamma of the European Call Option.\n",
        "\n",
        "        Args:\n",
        "            asset_price (float): Current price of the underlying asset.\n",
        "            asset_volatility (float): Volatility of the underlying asset.\n",
        "            strike_price (float): Strike price of the option.\n",
        "            time_to_expiration (float): Time to expiration in years.\n",
        "            risk_free_rate (float): Risk-free interest rate.\n",
        "\n",
        "        Returns:\n",
        "            float: Gamma of the call option.\n",
        "        \"\"\"\n",
        "        b = math.exp(-risk_free_rate * time_to_expiration)\n",
        "        x1 = (math.log(asset_price / (b * strike_price)) +\n",
        "              0.5 * (asset_volatility ** 2) * time_to_expiration) / (asset_volatility * math.sqrt(time_to_expiration))\n",
        "        return norm.pdf(x1) / (asset_price * asset_volatility * math.sqrt(time_to_expiration))\n",
        "\n",
        "    def call_price(self, asset_price, asset_volatility, strike_price, time_to_expiration, risk_free_rate):\n",
        "        \"\"\"\n",
        "        Calculates the price of the European Call Option.\n",
        "\n",
        "        Args:\n",
        "            asset_price (float): Current price of the underlying asset.\n",
        "            asset_volatility (float): Volatility of the underlying asset.\n",
        "            strike_price (float): Strike price of the option.\n",
        "            time_to_expiration (float): Time to expiration in years.\n",
        "            risk_free_rate (float): Risk-free interest rate.\n",
        "\n",
        "        Returns:\n",
        "            float: Price of the call option.\n",
        "        \"\"\"\n",
        "        b = math.exp(-risk_free_rate * time_to_expiration)\n",
        "        x1 = (math.log(asset_price / (b * strike_price)) +\n",
        "              0.5 * (asset_volatility ** 2) * time_to_expiration) / (asset_volatility * math.sqrt(time_to_expiration))\n",
        "        x2 = x1 - asset_volatility * math.sqrt(time_to_expiration)\n",
        "        return (norm.cdf(x1) * asset_price) - (norm.cdf(x2) * b * strike_price)\n",
        "\n",
        "    \n",
        "\n",
        "class EuropeanPut:\n",
        "    \"\"\"\n",
        "    Represents a European Put Option and provides methods to calculate its price, Delta, and Gamma.\n",
        "\n",
        "    Attributes:\n",
        "        asset_price (float): Current price of the underlying asset.\n",
        "        asset_volatility (float): Volatility of the underlying asset.\n",
        "        strike_price (float): Strike price of the option.\n",
        "        time_to_expiration (float): Time to expiration in years.\n",
        "        risk_free_rate (float): Risk-free interest rate.\n",
        "        price (float): Price of the put option.\n",
        "        delta (float): Delta of the put option.\n",
        "        gamma (float): Gamma of the put option.\n",
        "    \"\"\"\n",
        "    def __init__(self, asset_price, asset_volatility, strike_price, time_to_expiration, risk_free_rate):\n",
        "        \"\"\"\n",
        "        Initializes the European Put Option with its parameters and calculates its price, Delta, and Gamma.\n",
        "\n",
        "        Args:\n",
        "            asset_price (float): Current price of the underlying asset.\n",
        "            asset_volatility (float): Volatility of the underlying asset.\n",
        "            strike_price (float): Strike price of the option.\n",
        "            time_to_expiration (float): Time to expiration in years.\n",
        "            risk_free_rate (float): Risk-free interest rate.\n",
        "        \"\"\"\n",
        "        self.asset_price = asset_price\n",
        "        self.asset_volatility = asset_volatility\n",
        "        self.strike_price = strike_price\n",
        "        self.time_to_expiration = time_to_expiration\n",
        "        self.risk_free_rate = risk_free_rate\n",
        "        self.price = self.put_price(asset_price, asset_volatility, strike_price, time_to_expiration, risk_free_rate)\n",
        "        self.delta = self.put_delta(asset_price, asset_volatility, strike_price, time_to_expiration, risk_free_rate)\n",
        "        self.gamma = self.put_gamma(asset_price, asset_volatility, strike_price, time_to_expiration, risk_free_rate)\n",
        "\n",
        "    def put_delta(self, asset_price, asset_volatility, strike_price, time_to_expiration, risk_free_rate):\n",
        "        \"\"\"\n",
        "        Calculates the Delta of the European Put Option.\n",
        "\n",
        "        Args:\n",
        "            asset_price (float): Current price of the underlying asset.\n",
        "            asset_volatility (float): Volatility of the underlying asset.\n",
        "            strike_price (float): Strike price of the option.\n",
        "            time_to_expiration (float): Time to expiration in years.\n",
        "            risk_free_rate (float): Risk-free interest rate.\n",
        "\n",
        "        Returns:\n",
        "            float: Delta of the put option.\n",
        "        \"\"\"\n",
        "        b = math.exp(-risk_free_rate * time_to_expiration)\n",
        "        x1 = (math.log(asset_price / (b * strike_price)) +\n",
        "              0.5 * (asset_volatility ** 2) * time_to_expiration) / (asset_volatility * math.sqrt(time_to_expiration))\n",
        "        return norm.cdf(x1) - 1\n",
        "\n",
        "    def put_gamma(self, asset_price, asset_volatility, strike_price, time_to_expiration, risk_free_rate):\n",
        "        \"\"\"\n",
        "        Calculates the Gamma of the European Put Option.\n",
        "\n",
        "        Args:\n",
        "            asset_price (float): Current price of the underlying asset.\n",
        "            asset_volatility (float): Volatility of the underlying asset.\n",
        "            strike_price (float): Strike price of the option.\n",
        "            time_to_expiration (float): Time to expiration in years.\n",
        "            risk_free_rate (float): Risk-free interest rate.\n",
        "\n",
        "        Returns:\n",
        "            float: Gamma of the put option.\n",
        "        \"\"\"\n",
        "        b = math.exp(-risk_free_rate * time_to_expiration)\n",
        "        x1 = (math.log(asset_price / (b * strike_price)) +\n",
        "              0.5 * (asset_volatility ** 2) * time_to_expiration) / (asset_volatility * math.sqrt(time_to_expiration))\n",
        "        return norm.pdf(x1) / (asset_price * asset_volatility * math.sqrt(time_to_expiration))\n",
        "\n",
        "    def put_price(self, asset_price, asset_volatility, strike_price, time_to_expiration, risk_free_rate):\n",
        "        \"\"\"\n",
        "        Calculates the price of the European Put Option.\n",
        "\n",
        "        Args:\n",
        "            asset_price (float): Current price of the underlying asset.\n",
        "            asset_volatility (float): Volatility of the underlying asset.\n",
        "            strike_price (float): Strike price of the option.\n",
        "            time_to_expiration (float): Time to expiration in years.\n",
        "            risk_free_rate (float): Risk-free interest rate.\n",
        "\n",
        "        Returns:\n",
        "            float: Price of the put option.\n",
        "        \"\"\"\n",
        "        b = math.exp(-risk_free_rate * time_to_expiration)\n",
        "        x1 = (math.log(asset_price / (b * strike_price)) +\n",
        "              0.5 * (asset_volatility ** 2) * time_to_expiration) / (asset_volatility * math.sqrt(time_to_expiration))\n",
        "        x2 = x1 - asset_volatility * math.sqrt(time_to_expiration)\n",
        "        return (norm.cdf(-x2) * b * strike_price) - (norm.cdf(-x1) * asset_price)\n",
        "\n",
        "    "
      ]
    },
    {
      "cell_type": "code",
      "execution_count": 61,
      "metadata": {},
      "outputs": [
        {
          "name": "stderr",
          "output_type": "stream",
          "text": [
            "[*********************100%***********************]  1 of 1 completed"
          ]
        },
        {
          "name": "stdout",
          "output_type": "stream",
          "text": [
            "Spot Price: 139.02532958984375\n",
            "Volatility: 0.30398176802161114\n"
          ]
        },
        {
          "name": "stderr",
          "output_type": "stream",
          "text": [
            "\n"
          ]
        }
      ],
      "source": [
        "# Select a stock ticker (e.g., GOOGL)\n",
        "ticker = \"GOOGL\"\n",
        "\n",
        "# Download historical data for the stock\n",
        "data = yf.download(ticker, start=\"2023-01-01\", end=\"2023-12-31\") \\\n",
        "    .loc[:, 'Close']\n",
        "spot_price = data.iloc[-1,0]  # Use the last closing price as the current price\n",
        "\n",
        "# Estimate volatility (annualized standard deviation of daily returns)\n",
        "data[\"Returns\"] = data.pct_change()\n",
        "volatility = data[\"Returns\"].std() * np.sqrt(252)  # Annualized volatility\n",
        "\n",
        "print(f\"Spot Price: {spot_price}\")\n",
        "print(f\"Volatility: {volatility}\")"
      ]
    },
    {
      "cell_type": "code",
      "execution_count": 64,
      "metadata": {},
      "outputs": [
        {
          "data": {
            "text/html": [
              "<div>\n",
              "<style scoped>\n",
              "    .dataframe tbody tr th:only-of-type {\n",
              "        vertical-align: middle;\n",
              "    }\n",
              "\n",
              "    .dataframe tbody tr th {\n",
              "        vertical-align: top;\n",
              "    }\n",
              "\n",
              "    .dataframe thead th {\n",
              "        text-align: right;\n",
              "    }\n",
              "</style>\n",
              "<table border=\"1\" class=\"dataframe\">\n",
              "  <thead>\n",
              "    <tr style=\"text-align: right;\">\n",
              "      <th>Ticker</th>\n",
              "      <th>GOOGL</th>\n",
              "      <th>Returns</th>\n",
              "    </tr>\n",
              "    <tr>\n",
              "      <th>Date</th>\n",
              "      <th></th>\n",
              "      <th></th>\n",
              "    </tr>\n",
              "  </thead>\n",
              "  <tbody>\n",
              "    <tr>\n",
              "      <th>2023-01-03</th>\n",
              "      <td>88.695946</td>\n",
              "      <td>NaN</td>\n",
              "    </tr>\n",
              "    <tr>\n",
              "      <th>2023-01-04</th>\n",
              "      <td>87.660904</td>\n",
              "      <td>-0.011670</td>\n",
              "    </tr>\n",
              "    <tr>\n",
              "      <th>2023-01-05</th>\n",
              "      <td>85.789848</td>\n",
              "      <td>-0.021344</td>\n",
              "    </tr>\n",
              "    <tr>\n",
              "      <th>2023-01-06</th>\n",
              "      <td>86.924416</td>\n",
              "      <td>0.013225</td>\n",
              "    </tr>\n",
              "    <tr>\n",
              "      <th>2023-01-09</th>\n",
              "      <td>87.601181</td>\n",
              "      <td>0.007786</td>\n",
              "    </tr>\n",
              "    <tr>\n",
              "      <th>...</th>\n",
              "      <td>...</td>\n",
              "      <td>...</td>\n",
              "    </tr>\n",
              "    <tr>\n",
              "      <th>2023-12-22</th>\n",
              "      <td>140.816757</td>\n",
              "      <td>0.007620</td>\n",
              "    </tr>\n",
              "    <tr>\n",
              "      <th>2023-12-26</th>\n",
              "      <td>140.846634</td>\n",
              "      <td>0.000212</td>\n",
              "    </tr>\n",
              "    <tr>\n",
              "      <th>2023-12-27</th>\n",
              "      <td>139.702072</td>\n",
              "      <td>-0.008126</td>\n",
              "    </tr>\n",
              "    <tr>\n",
              "      <th>2023-12-28</th>\n",
              "      <td>139.562759</td>\n",
              "      <td>-0.000997</td>\n",
              "    </tr>\n",
              "    <tr>\n",
              "      <th>2023-12-29</th>\n",
              "      <td>139.025330</td>\n",
              "      <td>-0.003851</td>\n",
              "    </tr>\n",
              "  </tbody>\n",
              "</table>\n",
              "<p>250 rows × 2 columns</p>\n",
              "</div>"
            ],
            "text/plain": [
              "Ticker           GOOGL   Returns\n",
              "Date                            \n",
              "2023-01-03   88.695946       NaN\n",
              "2023-01-04   87.660904 -0.011670\n",
              "2023-01-05   85.789848 -0.021344\n",
              "2023-01-06   86.924416  0.013225\n",
              "2023-01-09   87.601181  0.007786\n",
              "...                ...       ...\n",
              "2023-12-22  140.816757  0.007620\n",
              "2023-12-26  140.846634  0.000212\n",
              "2023-12-27  139.702072 -0.008126\n",
              "2023-12-28  139.562759 -0.000997\n",
              "2023-12-29  139.025330 -0.003851\n",
              "\n",
              "[250 rows x 2 columns]"
            ]
          },
          "execution_count": 64,
          "metadata": {},
          "output_type": "execute_result"
        }
      ],
      "source": [
        "data"
      ]
    },
    {
      "cell_type": "code",
      "execution_count": 65,
      "metadata": {},
      "outputs": [],
      "source": [
        "# Option parameters\n",
        "strike_price1 = spot_price * 1.01  # Slightly out-of-the-money\n",
        "strike_price2 = spot_price * 0.99  # Slightly in-the-money\n",
        "time_to_expiration = 30 / 365  # 30 days to expiration\n",
        "risk_free_rate = 0.05 / 100  # 3-month treasury rate (divided by 100)\n",
        "\n",
        "# Number of contracts\n",
        "n_contract1 = -100  # Short position in option 1"
      ]
    },
    {
      "cell_type": "code",
      "execution_count": 66,
      "metadata": {},
      "outputs": [
        {
          "name": "stdout",
          "output_type": "stream",
          "text": [
            "Option 1 - Price: 4.1951713553974415, \n",
            "Delta: 0.4720449901725715, \n",
            "Gamma: 0.03284629700099981\n",
            "Option 2 - Price: 5.537887646031891, \n",
            "Delta: 0.5633112207499278, \n",
            "Gamma: 0.03251165953556078\n"
          ]
        }
      ],
      "source": [
        "# Option 1\n",
        "option1 = EuropeanCall(\n",
        "    asset_price=spot_price,\n",
        "    asset_volatility=volatility,\n",
        "    strike_price=strike_price1,\n",
        "    time_to_expiration=time_to_expiration,\n",
        "    risk_free_rate=risk_free_rate\n",
        ")\n",
        "print(f\"Option 1 - Price: {option1.price}, \\nDelta: {option1.delta}, \\nGamma: {option1.gamma}\")\n",
        "\n",
        "# Option 2\n",
        "option2 = EuropeanCall(\n",
        "    asset_price=spot_price,\n",
        "    asset_volatility=volatility,\n",
        "    strike_price=strike_price2,\n",
        "    time_to_expiration=time_to_expiration,\n",
        "    risk_free_rate=risk_free_rate\n",
        ")\n",
        "print(f\"Option 2 - Price: {option2.price}, \\nDelta: {option2.delta}, \\nGamma: {option2.gamma}\")"
      ]
    },
    {
      "cell_type": "code",
      "execution_count": 68,
      "metadata": {},
      "outputs": [
        {
          "name": "stdout",
          "output_type": "stream",
          "text": [
            "Positions to neutralize Greeks:\n",
            "Option 2: -1.1368683772161603e-13\n",
            "Option 3: 100.00000000000006\n"
          ]
        }
      ],
      "source": [
        "# Portfolio Greeks for Option 1\n",
        "portfolio_greeks = np.array([\n",
        "    [option1.gamma * abs(n_contract1)],\n",
        "    [option1.delta * abs(n_contract1)]\n",
        "])\n",
        "\n",
        "# Greeks matrix for options 2 and 3\n",
        "greeks_matrix = np.array([\n",
        "    [option2.gamma, option1.gamma],\n",
        "    [option2.delta, option1.delta]\n",
        "])\n",
        "\n",
        "# Solve for positions in options 2 and 3\n",
        "positions = np.linalg.inv(greeks_matrix).dot(portfolio_greeks)\n",
        "\n",
        "print(f\"Positions to neutralize Greeks:\\nOption 2: {positions[0][0]}\\nOption 3: {positions[1][0]}\")"
      ]
    },
    {
      "cell_type": "code",
      "execution_count": 69,
      "metadata": {},
      "outputs": [
        {
          "name": "stdout",
          "output_type": "stream",
          "text": [
            "Final Portfolio Positions:\n",
            "Option 1: -100\n",
            "Option 2: -1.1368683772161603e-13\n",
            "Option 3: 100.00000000000006\n"
          ]
        }
      ],
      "source": [
        "print(f\"Final Portfolio Positions:\\n\"\n",
        "      f\"Option 1: {n_contract1}\\n\"\n",
        "      f\"Option 2: {positions[0][0]}\\n\"\n",
        "      f\"Option 3: {positions[1][0]}\")"
      ]
    },
    {
      "cell_type": "markdown",
      "metadata": {},
      "source": []
    }
  ],
  "metadata": {
    "colab": {
      "provenance": [],
      "toc_visible": true
    },
    "kernelspec": {
      "display_name": ".venv",
      "language": "python",
      "name": "python3"
    },
    "language_info": {
      "codemirror_mode": {
        "name": "ipython",
        "version": 3
      },
      "file_extension": ".py",
      "mimetype": "text/x-python",
      "name": "python",
      "nbconvert_exporter": "python",
      "pygments_lexer": "ipython3",
      "version": "3.11.4"
    }
  },
  "nbformat": 4,
  "nbformat_minor": 0
}

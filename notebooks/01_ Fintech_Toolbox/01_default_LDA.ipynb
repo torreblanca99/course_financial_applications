{
 "cells": [
  {
   "cell_type": "markdown",
   "metadata": {},
   "source": [
    "# **Financial Applicactions with ML & AI**\n",
    "\n",
    "<img style=\"float: right;\" src=\"../../docs/img/logo_bourbaki.png\" width=\"100\"/>\n",
    "\n",
    "## **Module I:** Default Analysis\n",
    "#### Topic:  Clasification with Linear Discriminant Analysis\n",
    "\n",
    "##### Name: Julio César Avila Torreblanca\n",
    "\n",
    "- **Objective**: apply linear discriminant analysis to a default classification problem.\n",
    "\n",
    "- **Contents**:\n",
    "    - Notes:\n",
    "        - LDA Algorithm\n",
    "    - Code:\n",
    "        1. Libraries and parameters\n",
    "        2. Read Data\n",
    "        3. EDA\n",
    "        4. Modeling\n",
    "        5. Evaluation\n",
    "        6. Conclusions\n",
    "\n",
    "----"
   ]
  },
  {
   "cell_type": "markdown",
   "metadata": {},
   "source": [
    "\n",
    "# NOTES: Linear Discriminant Analysis for Default Classification\n",
    "\n",
    "### Introduction to Linear Discriminant Analysis\n",
    "\n",
    "Linear Discriminant Analysis (LDA) is a supervised machine learning algorithm that is primarily used for classification purposes. It seeks to find a linear combination of features that characterizes or separates two or more classes (in this case, defaulters and non-defaulters).\n",
    "\n",
    "### Purpose of LDA in Default Classification\n",
    "\n",
    "In the context of financial applications, LDA can be employed to classify whether a client will default or not on a loan based on historical data. The algorithm helps in reducing dimensionality while preserving as much class discriminatory information as possible.\n",
    "\n",
    "### Mathematical Formulation\n",
    "\n",
    "LDA works by modeling the difference between the classes as linear equations. It aims to maximize the ratio of between-class variance to the within-class variance, thereby ensuring maximum separability. The mathematical formulation involves:\n",
    "\n",
    "1. Compute the mean vectors for each class.\n",
    "2. Compute the within-class scatter matrix ($S_W$):\n",
    "\n",
    "$$S_W = \\sum_{i=1}^{c} \\sum_{x \\in D_i} (x - \\mu_i)(x - \\mu_i)^T$$\n",
    "\n",
    "3. Compute the between-class scatter matrix ($S_B$):\n",
    "$$S_B = \\sum_{i=1}^{c} N_i (\\mu_i - \\mu)(\\mu_i - \\mu)^T$$\n",
    "\n",
    "4. Solve the generalized eigenvalue problem for the matrix ($S_W^{-1}S_B$).\n",
    "\n",
    "The solution of this problem gives us the linear discriminant coefficients.\n",
    "\n",
    "### Implementation Steps\n",
    "\n",
    "1. Standardize the dataset.\n",
    "2. Compute the LDA components.\n",
    "3. Project the data onto the LDA components.\n",
    "4. Use the projections for classification.\n",
    "\n",
    "### Advantages of LDA\n",
    "\n",
    "- **Dimensionality Reduction**: LDA can reduce the number of features needed while retaining the class discriminatory information.\n",
    "- **Computationally Efficient**: Compared to other classification methods like SVM and neural networks, LDA is relatively fast.\n",
    "- **Interpretability**: The linear combinations of features are easy to interpret.\n",
    "- **Captures Class Covariance**: Takes into account the covariance between the different classes.\n",
    "\n",
    "### Disadvantages of LDA\n",
    "\n",
    "- **Assumption of Normality**: LDA assumes that data is normally distributed, which may not hold true in many real-world applications.\n",
    "- **Linearity Assumption**: It assumes linear decision boundaries, which may not capture complex relationships well.\n",
    "- **Sensitive to Outliers**: Being based on the mean, LDA is sensitive to outliers which can mislead the results.\n",
    "- **Not Suitable for Non-Gaussian Distributions**: If the Gaussian assumption is seriously violated, LDA will perform poorly.\n",
    "\n",
    "---\n"
   ]
  },
  {
   "cell_type": "markdown",
   "metadata": {},
   "source": [
    "# Coding"
   ]
  },
  {
   "cell_type": "markdown",
   "metadata": {},
   "source": [
    "# 1. Libraries and Parameters"
   ]
  },
  {
   "cell_type": "code",
   "execution_count": 1,
   "metadata": {},
   "outputs": [],
   "source": [
    "import pandas as pd\n",
    "import numpy as np\n",
    "\n",
    "from sklearn.preprocessing import StandardScaler, MinMaxScaler\n",
    "from sklearn.model_selection import train_test_split\n",
    "from sklearn.discriminant_analysis import LinearDiscriminantAnalysis\n",
    "from sklearn.metrics import classification_report, confusion_matrix"
   ]
  },
  {
   "cell_type": "markdown",
   "metadata": {},
   "source": [
    "# 2. Libraries and parameters"
   ]
  },
  {
   "cell_type": "code",
   "execution_count": null,
   "metadata": {},
   "outputs": [],
   "source": [
    "df = pd.read_excel(\"/content/drive/MyDrive/Cruso-ApsFinancieras/semana1/lending_clubFull_Data_Set.xlsx\", index_col=0)\n",
    "df"
   ]
  },
  {
   "cell_type": "markdown",
   "metadata": {},
   "source": [
    "# 3. EDA"
   ]
  },
  {
   "cell_type": "markdown",
   "metadata": {},
   "source": [
    "#### Miss values"
   ]
  },
  {
   "cell_type": "code",
   "execution_count": null,
   "metadata": {},
   "outputs": [],
   "source": [
    "df.isna().sum().sort_values()"
   ]
  },
  {
   "cell_type": "code",
   "execution_count": null,
   "metadata": {},
   "outputs": [],
   "source": [
    "na_values = (df.isna().sum().sort_values() / len(df)).reset_index(name = 'n')\n",
    "na_values"
   ]
  },
  {
   "cell_type": "code",
   "execution_count": null,
   "metadata": {},
   "outputs": [],
   "source": [
    "aux = na_values[na_values['n']>0.1]\n",
    "aux"
   ]
  },
  {
   "cell_type": "code",
   "execution_count": null,
   "metadata": {},
   "outputs": [],
   "source": [
    "columns_to_drop = list(aux['index'])\n",
    "columns_to_drop"
   ]
  },
  {
   "cell_type": "markdown",
   "metadata": {},
   "source": [
    "# 3. Random Walk Analysis"
   ]
  },
  {
   "cell_type": "code",
   "execution_count": null,
   "metadata": {},
   "outputs": [],
   "source": []
  },
  {
   "cell_type": "markdown",
   "metadata": {},
   "source": [
    "# 4. Conclusions"
   ]
  },
  {
   "cell_type": "code",
   "execution_count": null,
   "metadata": {},
   "outputs": [],
   "source": []
  }
 ],
 "metadata": {
  "kernelspec": {
   "display_name": ".venv",
   "language": "python",
   "name": "python3"
  },
  "language_info": {
   "codemirror_mode": {
    "name": "ipython",
    "version": 3
   },
   "file_extension": ".py",
   "mimetype": "text/x-python",
   "name": "python",
   "nbconvert_exporter": "python",
   "pygments_lexer": "ipython3",
   "version": "3.11.4"
  }
 },
 "nbformat": 4,
 "nbformat_minor": 2
}

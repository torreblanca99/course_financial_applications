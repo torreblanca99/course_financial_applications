{
 "cells": [
  {
   "cell_type": "markdown",
   "metadata": {},
   "source": [
    "# **Financial Applicactions with ML & AI**\n",
    "\n",
    "<img style=\"float: right;\" src=\"../../docs/img/logo_bourbaki.png\" width=\"100\"/>\n",
    "\n",
    "## **Module I:** Time Series and Forecast\n",
    "#### Topic: White Noise & Random Walk\n",
    "\n",
    "\n",
    "##### Name: Julio César Avila Torreblanca\n",
    "\n",
    "- **Objective**: simulate and analyse a *White Noise* and a *Random Walk* process.\n",
    "\n",
    "- **Contents**:\n",
    "    1. Libraries and parameters\n",
    "    2. White Noise\n",
    "        - Data Generation\n",
    "        - Analysis\n",
    "    3. Random Walk\n",
    "        - Data Generation\n",
    "        - Analysis\n",
    "    4. Conclusions\n",
    "\n"
   ]
  },
  {
   "cell_type": "markdown",
   "metadata": {},
   "source": [
    "# 1. Librerías y parámetros"
   ]
  },
  {
   "cell_type": "code",
   "execution_count": null,
   "metadata": {
    "vscode": {
     "languageId": "plaintext"
    }
   },
   "outputs": [],
   "source": []
  },
  {
   "cell_type": "markdown",
   "metadata": {},
   "source": [
    "# 2. White Noise Analysis"
   ]
  },
  {
   "cell_type": "markdown",
   "metadata": {},
   "source": []
  },
  {
   "cell_type": "markdown",
   "metadata": {},
   "source": [
    "# 3. Random Walk Analysis"
   ]
  },
  {
   "cell_type": "code",
   "execution_count": null,
   "metadata": {
    "vscode": {
     "languageId": "plaintext"
    }
   },
   "outputs": [],
   "source": []
  },
  {
   "cell_type": "markdown",
   "metadata": {},
   "source": [
    "# 4. Conclusions"
   ]
  },
  {
   "cell_type": "code",
   "execution_count": null,
   "metadata": {
    "vscode": {
     "languageId": "plaintext"
    }
   },
   "outputs": [],
   "source": []
  }
 ],
 "metadata": {
  "kernelspec": {
   "display_name": ".venv",
   "language": "python",
   "name": "python3"
  },
  "language_info": {
   "codemirror_mode": {
    "name": "ipython",
    "version": 3
   },
   "file_extension": ".py",
   "mimetype": "text/x-python",
   "name": "python",
   "nbconvert_exporter": "python",
   "pygments_lexer": "ipython3",
   "version": "3.11.4"
  }
 },
 "nbformat": 4,
 "nbformat_minor": 2
}

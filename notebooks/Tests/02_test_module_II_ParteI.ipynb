{
  "cells": [
    {
      "cell_type": "markdown",
      "metadata": {
        "id": "GXkW6MFEl9QP"
      },
      "source": [
        "# **Aplicaciones Financieras de ML & AI**\n",
        "## **Examen II:** *Objetos Financieros Parte I*\n",
        "\n",
        "#### Nombre: Julio César Avila Torreblanca\n",
        "\n",
        "- **Problema 1:**:\n",
        "    1. Descargue datos del precio del dólar en pesos mexicanos, use Yahoo Finance.\n",
        "    2. Proponer una red de arquitectura LSTM que realice una predicción (forecast)\n",
        "de la serie de tiempo anterior. ¿Es posible mejorar los resultados de un modelo ARIMA?\n",
        "    3. ¿Es posible utilizar redes neuronales recurrentes en lugar de un modelo\n",
        "ARCH?, Intente implementarlo y observe los resultados.\n",
        "\n",
        "\n",
        "- **Contenido del notebook**:\n",
        "    1. Librerías y parámetros\n",
        "    2. Lectura de los datos\n",
        "    3. Forecasting con ARIMA\n",
        "    4. Forecasting con GARCH\n",
        "    5. Forecasting con LSTM\n",
        "    6. Conclusiones\n",
        "\n"
      ]
    },
    {
      "cell_type": "markdown",
      "metadata": {
        "id": "tu8uYwl7l9QQ"
      },
      "source": [
        "# 1. Librerías y parámetros"
      ]
    },
    {
      "cell_type": "code",
      "source": [
        "#!pip install arch"
      ],
      "metadata": {
        "colab": {
          "base_uri": "https://localhost:8080/"
        },
        "id": "0tmKpZVhhGCt",
        "outputId": "f23e0718-e8f0-4fab-de17-e6e736588f9f"
      },
      "execution_count": 1,
      "outputs": [
        {
          "output_type": "stream",
          "name": "stdout",
          "text": [
            "Requirement already satisfied: arch in /usr/local/lib/python3.11/dist-packages (7.2.0)\n",
            "Requirement already satisfied: numpy>=1.22.3 in /usr/local/lib/python3.11/dist-packages (from arch) (1.26.4)\n",
            "Requirement already satisfied: scipy>=1.8 in /usr/local/lib/python3.11/dist-packages (from arch) (1.14.1)\n",
            "Requirement already satisfied: pandas>=1.4 in /usr/local/lib/python3.11/dist-packages (from arch) (2.2.0)\n",
            "Requirement already satisfied: statsmodels>=0.12 in /usr/local/lib/python3.11/dist-packages (from arch) (0.14.4)\n",
            "Requirement already satisfied: python-dateutil>=2.8.2 in /usr/local/lib/python3.11/dist-packages (from pandas>=1.4->arch) (2.8.2)\n",
            "Requirement already satisfied: pytz>=2020.1 in /usr/local/lib/python3.11/dist-packages (from pandas>=1.4->arch) (2025.2)\n",
            "Requirement already satisfied: tzdata>=2022.7 in /usr/local/lib/python3.11/dist-packages (from pandas>=1.4->arch) (2025.2)\n",
            "Requirement already satisfied: patsy>=0.5.6 in /usr/local/lib/python3.11/dist-packages (from statsmodels>=0.12->arch) (1.0.1)\n",
            "Requirement already satisfied: packaging>=21.3 in /usr/local/lib/python3.11/dist-packages (from statsmodels>=0.12->arch) (24.2)\n",
            "Requirement already satisfied: six>=1.5 in /usr/local/lib/python3.11/dist-packages (from python-dateutil>=2.8.2->pandas>=1.4->arch) (1.17.0)\n"
          ]
        }
      ]
    },
    {
      "cell_type": "code",
      "execution_count": null,
      "metadata": {
        "id": "ReENcznkl9QQ"
      },
      "outputs": [],
      "source": [
        "# data\n",
        "import pandas as pd\n",
        "pd.set_option('display.max_columns', None)\n",
        "import numpy as np\n",
        "import yfinance as yf\n",
        "\n",
        "# plots\n",
        "import matplotlib.pyplot as plt\n",
        "import seaborn as sns\n",
        "import plotly.graph_objects as go\n",
        "\n",
        "# modeling\n",
        "from sklearn.model_selection import train_test_split\n",
        "\n",
        "from statsmodels.tsa.stattools import adfuller\n",
        "from statsmodels.graphics.tsaplots import plot_acf, plot_pacf\n",
        "from statsmodels.tsa.arima.model import ARIMA\n",
        "\n",
        "from arch import arch_model\n",
        "\n",
        "import tensorflow as tf\n",
        "from tensorflow import keras\n",
        "\n",
        "# test\n",
        "from sklearn.metrics import mean_squared_error, mean_absolute_error\n"
      ]
    },
    {
      "cell_type": "markdown",
      "metadata": {
        "id": "px9Gznasl9QR"
      },
      "source": [
        "# 2. Lectura de los datos"
      ]
    },
    {
      "cell_type": "code",
      "execution_count": null,
      "metadata": {
        "id": "MDdgosX-l9QR"
      },
      "outputs": [],
      "source": [
        "data = yf.download(\n",
        "        tickers = \"MXN=X\", # dollar price\n",
        "        period = \"1y\", # one year information\n",
        "        interval = \"1d\", # daily information\n",
        "    ).loc[:, 'Close']\n",
        "\n",
        "data = data.rename(columns={'MXN=X': 'dollar_price'})\n",
        "data"
      ]
    },
    {
      "cell_type": "markdown",
      "metadata": {
        "id": "lGXFTNS6l9QR"
      },
      "source": [
        "# 3. Forecasting con ARIMA\n",
        "Los pasos a seguir son:\n",
        "- Validar si la serie de tiempo es estacionaria, caso contrario, transformar los datos.\n",
        "- Obtener los valores de p,q\n",
        "- Entrenar las combinaciones $ARIMA(p,d,q)$\n",
        "- Seleccionar el mejor modelo\n",
        "- Análisis de resultados"
      ]
    },
    {
      "cell_type": "markdown",
      "source": [
        "## 3.1 *Estacionalidad*"
      ],
      "metadata": {
        "id": "kLv6F35wjt6K"
      }
    },
    {
      "cell_type": "code",
      "source": [
        "# uso de test Dickey-Fuller para ver si la st es estacionaria\n",
        "ADF_result = adfuller(data['dollar_price'])\n",
        "\n",
        "print('ADF test con los datos originales:')\n",
        "print(f'-> ADF Statistic: {ADF_result[0]}')\n",
        "print(f'-> p-value: {ADF_result[1]}')"
      ],
      "metadata": {
        "id": "WXxXr62_iJvK"
      },
      "execution_count": null,
      "outputs": []
    },
    {
      "cell_type": "code",
      "source": [
        "data['dollar_price'].plot(\n",
        "    figsize = (12,4),\n",
        "    color='#128277'\n",
        ")\n",
        "\n",
        "plt.title(\"Precio diario del dolar (MXN)\")\n",
        "plt.grid(alpha=0.4)\n",
        "plt.legend('')\n",
        "plt.show()"
      ],
      "metadata": {
        "id": "TD-zgYAeh3rl"
      },
      "execution_count": null,
      "outputs": []
    },
    {
      "cell_type": "markdown",
      "source": [
        "Dado que p-value > 0.05 no se rechaza la hipótesis nula, por ende la serie de tiempo no es estacionaria.\n",
        "\n",
        "Probaremos con los retornos logaritmicos."
      ],
      "metadata": {
        "id": "7Jyam2Gpk2UA"
      }
    },
    {
      "cell_type": "code",
      "source": [
        "data['log_returns'] = np.log(data['dollar_price']) - np.log(data['dollar_price'].shift(1))\n",
        "data = data.dropna()\n",
        "\n",
        "ADF_result = adfuller(data['log_returns'])\n",
        "\n",
        "print('ADF test con los retornos logarítmicos:')\n",
        "print(f'-> ADF Statistic: {ADF_result[0]}')\n",
        "print(f'-> p-value: {ADF_result[1]}')"
      ],
      "metadata": {
        "id": "Rrb2gd_Ck1g_"
      },
      "execution_count": null,
      "outputs": []
    },
    {
      "cell_type": "code",
      "source": [
        "data['log_returns'].plot(\n",
        "    figsize = (12,4),\n",
        "    color='#128277',\n",
        "    alpha=0.7\n",
        ")\n",
        "\n",
        "plt.title(\"Retornos logarítmicos para el precio diario del dolar\")\n",
        "plt.grid(alpha=0.4)\n",
        "plt.legend('')\n",
        "plt.show()"
      ],
      "metadata": {
        "id": "mlPPAw3Tl_bn"
      },
      "execution_count": null,
      "outputs": []
    },
    {
      "cell_type": "markdown",
      "source": [
        "Aquí p-value < 0.05, por lo que tomando los retornos logarítmicos del dolar obtenemos una serie de tiempo estacionaria. Trabajaremos con esta."
      ],
      "metadata": {
        "id": "jHTroSRgmN68"
      }
    },
    {
      "cell_type": "markdown",
      "source": [
        "## 3.2 Obtener $p$, $q$"
      ],
      "metadata": {
        "id": "7b915p8MmcHG"
      }
    },
    {
      "cell_type": "code",
      "source": [
        "# ACF plot\n",
        "n_coef = 50\n",
        "fig, ax = plt.subplots(figsize=(12,4))\n",
        "\n",
        "plot_acf(\n",
        "    x=data['log_returns'],\n",
        "    ax=ax,\n",
        "    lags=n_coef,\n",
        "    color='#004D47',\n",
        "    #alpha=0.7\n",
        ")\n",
        "ax.set(\n",
        "    xlabel='Timesteps',\n",
        "    ylabel='Values',\n",
        "    title = 'ACF: Retornos logarítmicos diarios del dolar')\n",
        "ax.title.set_size(20)\n",
        "plt.show()"
      ],
      "metadata": {
        "id": "61qevFZ1mHbN"
      },
      "execution_count": null,
      "outputs": []
    },
    {
      "cell_type": "code",
      "source": [
        "# PACF plot\n",
        "n_coef = 50\n",
        "fig, ax = plt.subplots(figsize=(12,4))\n",
        "\n",
        "plot_pacf(\n",
        "    x=data['log_returns'],\n",
        "    ax=ax,\n",
        "    lags=n_coef,\n",
        "    color='#004D47',\n",
        "    #alpha=0.7\n",
        ")\n",
        "ax.set(\n",
        "    xlabel='Timesteps',\n",
        "    ylabel='Values',\n",
        "    title = 'PACF: Retornos logarítmicos diarios del dolar')\n",
        "ax.title.set_size(20)\n",
        "plt.show()"
      ],
      "metadata": {
        "id": "uOOsFkzymuH5"
      },
      "execution_count": null,
      "outputs": []
    },
    {
      "cell_type": "markdown",
      "source": [
        "Analizando los gráficos de ACP y PACF, vemos que solo la serie de tiempo solo tiene autocorrleación con el primer lag, con el resto de valores pasados no se aprecia alguna correlación. Dada la falta de Autocorrelaciones, podemos suponer que el uso del modelo ARIMA puede que no nos llegue a realizar una buena predicción. Por ahora continuaremos con el ejercicio tomando $p,q=1$."
      ],
      "metadata": {
        "id": "SK5lbKlkpiiR"
      }
    },
    {
      "cell_type": "markdown",
      "source": [
        "## 3.3 Modelo ARIMA"
      ],
      "metadata": {
        "id": "EZRieQACqaCl"
      }
    },
    {
      "cell_type": "markdown",
      "source": [
        "### Split data\n",
        "Tomaremos el último **mes** como test y entrenaremos con el resto de datos."
      ],
      "metadata": {
        "id": "xhuNYtFPtJ1f"
      }
    },
    {
      "cell_type": "code",
      "source": [
        "train_data = data.iloc[:-20,:].copy()\n",
        "test_data = data.iloc[-20:,:].copy()\n",
        "\n",
        "print(train_data.shape)\n",
        "print(test_data.shape)"
      ],
      "metadata": {
        "id": "4MMneT14tJN8"
      },
      "execution_count": null,
      "outputs": []
    },
    {
      "cell_type": "markdown",
      "source": [
        "### Train"
      ],
      "metadata": {
        "id": "iro5ubUsurvK"
      }
    },
    {
      "cell_type": "code",
      "source": [
        "# MODELO ARIMA\n",
        "model_arma = ARIMA(\n",
        "    train_data['log_returns'],\n",
        "    order=(1, 0, 1),\n",
        "    enforce_stationarity=False,\n",
        ")\n",
        "\n",
        "model_arma_fitted = model_arma.fit()"
      ],
      "metadata": {
        "id": "gQTkUIkAqZjO"
      },
      "execution_count": null,
      "outputs": []
    },
    {
      "cell_type": "code",
      "source": [
        "print(model_arma_fitted.summary())"
      ],
      "metadata": {
        "id": "Ig2yz8DkwA0R"
      },
      "execution_count": null,
      "outputs": []
    },
    {
      "cell_type": "markdown",
      "source": [
        "### Test"
      ],
      "metadata": {
        "id": "dh4zL2Z9uvSQ"
      }
    },
    {
      "cell_type": "code",
      "source": [
        "# log returns\n",
        "test_forecast = model_arma_fitted.get_forecast(steps=len(test_data))\n",
        "test_forecast_series = pd.Series(test_forecast.predicted_mean.values, index=test_data.index)\n",
        "\n",
        "# metrics\n",
        "mse = mean_squared_error(test_data['log_returns'], test_forecast_series)\n",
        "rmse = mse**0.5\n",
        "mae = mean_absolute_error(test_data['log_returns'], test_forecast_series)\n",
        "\n",
        "# plot for comparing\n",
        "plt.figure(figsize=(12,4))\n",
        "plt.plot(train_data['log_returns'], label='Training Data', color='#128277')\n",
        "plt.plot(test_data['log_returns'], label='Test Data', color='#6FB98F',)\n",
        "plt.plot(test_forecast_series, label='Forecasted Data', color='grey', linestyle='--')\n",
        "plt.fill_between(test_data.index,\n",
        "                 test_forecast.conf_int().iloc[:, 0],\n",
        "                 test_forecast.conf_int().iloc[:, 1],\n",
        "                 color='k', alpha=.1)\n",
        "plt.title('Evaluación: ARIMA en retornos logarítmicos')\n",
        "plt.xlabel('Date')\n",
        "plt.ylabel('Date')\n",
        "plt.legend()\n",
        "plt.show()\n",
        "\n",
        "print(f'RMSE: {rmse:.4f}')\n",
        "print(f'MAE: {mae:.4f}')"
      ],
      "metadata": {
        "id": "qhO6qtEHp0Ev"
      },
      "execution_count": null,
      "outputs": []
    },
    {
      "cell_type": "code",
      "source": [
        "# log returns\n",
        "test_forecast = model_arma_fitted.get_forecast(steps=len(test_data))\n",
        "test_forecast_values = test_forecast.predicted_mean.values\n",
        "\n",
        "# inverse log return\n",
        "for index,val in enumerate(test_forecast_values):\n",
        "  test_forecast_values[index] = np.exp(val)*data['dollar_price'].iloc[-21+index]\n",
        "\n",
        "test_forecast_series = pd.Series(test_forecast_values, index=test_data.index)\n",
        "# metrics\n",
        "mse = mean_squared_error(test_data['dollar_price'], test_forecast_series)\n",
        "rmse = mse**0.5\n",
        "mae = mean_absolute_error(test_data['dollar_price'], test_forecast_series)\n",
        "\n",
        "# plot for comparing\n",
        "plt.figure(figsize=(12,4))\n",
        "plt.plot(train_data['dollar_price'], label='Training Data', color='#128277')\n",
        "plt.plot(test_data['dollar_price'], label='Test Data', color='#6FB98F',)\n",
        "plt.plot(test_forecast_series, label='Forecasted Data', color='grey', linestyle='--')\n",
        "plt.fill_between(test_data.index,\n",
        "                 test_forecast.conf_int().iloc[:, 0],\n",
        "                 test_forecast.conf_int().iloc[:, 1],\n",
        "                 color='k', alpha=.15)\n",
        "plt.title('Evaluación: ARIMA en el precio del dolar')\n",
        "plt.xlabel('Date')\n",
        "plt.ylabel('Date')\n",
        "plt.legend()\n",
        "plt.show()\n",
        "\n",
        "print(f'RMSE: {rmse:.4f}')\n",
        "print(f'MAE: {mae:.4f}')"
      ],
      "metadata": {
        "id": "Zx1avFhm9adh"
      },
      "execution_count": null,
      "outputs": []
    },
    {
      "cell_type": "code",
      "source": [
        "# log returns\n",
        "test_forecast = model_arma_fitted.get_forecast(steps=len(test_data))\n",
        "test_forecast_values = test_forecast.predicted_mean.values\n",
        "\n",
        "# inverse log return\n",
        "for index,val in enumerate(test_forecast_values):\n",
        "  test_forecast_values[index] = np.exp(val)*data['dollar_price'].iloc[-21+index]\n",
        "\n",
        "test_forecast_series = pd.Series(test_forecast_values, index=test_data.index)\n",
        "# metrics\n",
        "mse = mean_squared_error(test_data['dollar_price'], test_forecast_series)\n",
        "rmse = mse**0.5\n",
        "mae = mean_absolute_error(test_data['dollar_price'], test_forecast_series)\n",
        "\n",
        "# plot for comparing\n",
        "plt.figure(figsize=(12,4))\n",
        "plt.plot(test_data['dollar_price'], label='Test Data', color='#6FB98F',)\n",
        "plt.plot(test_forecast_series, label='Forecasted Data', color='grey', linestyle='--')\n",
        "plt.fill_between(test_data.index,\n",
        "                 test_forecast.conf_int().iloc[:, 0],\n",
        "                 test_forecast.conf_int().iloc[:, 1],\n",
        "                 color='k', alpha=.15)\n",
        "plt.title('Evaluación: ARIMA en el precio del dolar')\n",
        "plt.xlabel('Date')\n",
        "plt.ylabel('Date')\n",
        "plt.legend()\n",
        "plt.show()\n",
        "\n",
        "print(f'RMSE: {rmse:.4f}')\n",
        "print(f'MAE: {mae:.4f}')"
      ],
      "metadata": {
        "id": "Cn3lr90f0EnE"
      },
      "execution_count": null,
      "outputs": []
    },
    {
      "cell_type": "code",
      "source": [],
      "metadata": {
        "id": "HjJI1LXHCrle"
      },
      "execution_count": null,
      "outputs": []
    }
  ],
  "metadata": {
    "colab": {
      "provenance": []
    },
    "kernelspec": {
      "display_name": ".venv",
      "language": "python",
      "name": "python3"
    },
    "language_info": {
      "codemirror_mode": {
        "name": "ipython",
        "version": 3
      },
      "file_extension": ".py",
      "mimetype": "text/x-python",
      "name": "python",
      "nbconvert_exporter": "python",
      "pygments_lexer": "ipython3",
      "version": "3.11.4"
    }
  },
  "nbformat": 4,
  "nbformat_minor": 0
}
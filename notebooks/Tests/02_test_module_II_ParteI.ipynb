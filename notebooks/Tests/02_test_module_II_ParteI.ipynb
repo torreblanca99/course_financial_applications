{
  "cells": [
    {
      "cell_type": "markdown",
      "metadata": {
        "id": "GXkW6MFEl9QP"
      },
      "source": [
        "# **Aplicaciones Financieras de ML & AI**\n",
        "## **Examen II:** *Objetos Financieros Parte I*\n",
        "\n",
        "#### Nombre: Julio César Avila Torreblanca\n",
        "\n",
        "- **Problema 1:**:\n",
        "    1. Descargue datos del precio del dólar en pesos mexicanos, use Yahoo Finance.\n",
        "    2. Proponer una red de arquitectura LSTM que realice una predicción (forecast)\n",
        "de la serie de tiempo anterior. ¿Es posible mejorar los resultados de un modelo ARIMA?\n",
        "    3. ¿Es posible utilizar redes neuronales recurrentes en lugar de un modelo\n",
        "ARCH?, Intente implementarlo y observe los resultados.\n",
        "\n",
        "\n",
        "- **Contenido del notebook**:\n",
        "    1. Librerías y parámetros\n",
        "    2. Lectura de los datos\n",
        "    3. Forecasting con ARIMA\n",
        "    4. Forecasting con GARCH\n",
        "    5. Forecasting con LSTM\n",
        "    6. Conclusiones\n",
        "\n"
      ]
    },
    {
      "cell_type": "markdown",
      "metadata": {
        "id": "tu8uYwl7l9QQ"
      },
      "source": [
        "# 1. Librerías y parámetros"
      ]
    },
    {
      "cell_type": "code",
      "source": [
        "!pip install arch"
      ],
      "metadata": {
        "id": "0tmKpZVhhGCt"
      },
      "execution_count": null,
      "outputs": []
    },
    {
      "cell_type": "code",
      "execution_count": null,
      "metadata": {
        "id": "ReENcznkl9QQ"
      },
      "outputs": [],
      "source": [
        "# data\n",
        "import pandas as pd\n",
        "pd.set_option('display.max_columns', None)\n",
        "import numpy as np\n",
        "import yfinance as yf\n",
        "\n",
        "# plots\n",
        "import matplotlib.pyplot as plt\n",
        "import seaborn as sns\n",
        "import plotly.graph_objects as go\n",
        "\n",
        "# modeling\n",
        "from sklearn.model_selection import train_test_split\n",
        "\n",
        "from statsmodels.tsa.stattools import adfuller\n",
        "from statsmodels.graphics.tsaplots import plot_acf, plot_pacf\n",
        "from statsmodels.tsa.arima.model import ARIMA\n",
        "\n",
        "from arch import arch_model\n",
        "\n",
        "import tensorflow as tf\n",
        "from tensorflow import keras\n",
        "from tensorflow.keras.models import Sequential\n",
        "from tensorflow.keras.optimizers import Adam\n",
        "from tensorflow.keras import layers\n",
        "\n",
        "# test\n",
        "from sklearn.metrics import mean_squared_error, mean_absolute_error\n"
      ]
    },
    {
      "cell_type": "markdown",
      "metadata": {
        "id": "px9Gznasl9QR"
      },
      "source": [
        "# 2. Lectura de los datos"
      ]
    },
    {
      "cell_type": "code",
      "execution_count": null,
      "metadata": {
        "id": "MDdgosX-l9QR"
      },
      "outputs": [],
      "source": [
        "data = yf.download(\n",
        "        tickers = \"MXN=X\", # dollar price\n",
        "        period = \"1y\", # one year information\n",
        "        interval = \"1d\", # daily information\n",
        "    ).loc[:, 'Close']\n",
        "\n",
        "data = data.rename(columns={'MXN=X': 'dollar_price'})\n",
        "data"
      ]
    },
    {
      "cell_type": "markdown",
      "metadata": {
        "id": "lGXFTNS6l9QR"
      },
      "source": [
        "# 3. Forecasting con ARIMA\n",
        "Los pasos a seguir son:\n",
        "- Validar si la serie de tiempo es estacionaria, caso contrario, transformar los datos.\n",
        "- Obtener los valores de p,q\n",
        "- Entrenar las combinaciones $ARIMA(p,d,q)$\n",
        "- Seleccionar el mejor modelo\n",
        "- Análisis de resultados"
      ]
    },
    {
      "cell_type": "markdown",
      "source": [
        "## 3.1 *Estacionalidad*"
      ],
      "metadata": {
        "id": "kLv6F35wjt6K"
      }
    },
    {
      "cell_type": "code",
      "source": [
        "# uso de test Dickey-Fuller para ver si la st es estacionaria\n",
        "ADF_result = adfuller(data['dollar_price'])\n",
        "\n",
        "print('ADF test con los datos originales:')\n",
        "print(f'-> ADF Statistic: {ADF_result[0]}')\n",
        "print(f'-> p-value: {ADF_result[1]}')"
      ],
      "metadata": {
        "id": "WXxXr62_iJvK"
      },
      "execution_count": null,
      "outputs": []
    },
    {
      "cell_type": "code",
      "source": [
        "data['dollar_price'].plot(\n",
        "    figsize = (12,4),\n",
        "    color='#128277'\n",
        ")\n",
        "\n",
        "plt.title(\"Precio diario del dolar (MXN)\")\n",
        "plt.grid(alpha=0.4)\n",
        "plt.legend('')\n",
        "plt.show()"
      ],
      "metadata": {
        "id": "TD-zgYAeh3rl"
      },
      "execution_count": null,
      "outputs": []
    },
    {
      "cell_type": "markdown",
      "source": [
        "Dado que p-value > 0.05 no se rechaza la hipótesis nula, por ende la serie de tiempo no es estacionaria.\n",
        "\n",
        "Probaremos con los retornos logaritmicos."
      ],
      "metadata": {
        "id": "7Jyam2Gpk2UA"
      }
    },
    {
      "cell_type": "code",
      "source": [
        "data['log_returns'] = np.log(data['dollar_price']) - np.log(data['dollar_price'].shift(1))\n",
        "data = data.dropna()\n",
        "\n",
        "ADF_result = adfuller(data['log_returns'])\n",
        "\n",
        "print('ADF test con los retornos logarítmicos:')\n",
        "print(f'-> ADF Statistic: {ADF_result[0]}')\n",
        "print(f'-> p-value: {ADF_result[1]}')"
      ],
      "metadata": {
        "id": "Rrb2gd_Ck1g_"
      },
      "execution_count": null,
      "outputs": []
    },
    {
      "cell_type": "code",
      "source": [
        "data['log_returns'].plot(\n",
        "    figsize = (12,4),\n",
        "    color='#128277',\n",
        "    alpha=0.7\n",
        ")\n",
        "\n",
        "plt.title(\"Retornos logarítmicos para el precio diario del dolar\")\n",
        "plt.grid(alpha=0.4)\n",
        "plt.legend('')\n",
        "plt.show()"
      ],
      "metadata": {
        "id": "mlPPAw3Tl_bn"
      },
      "execution_count": null,
      "outputs": []
    },
    {
      "cell_type": "markdown",
      "source": [
        "Aquí p-value < 0.05, por lo que tomando los retornos logarítmicos del dolar obtenemos una serie de tiempo estacionaria. Trabajaremos con esta."
      ],
      "metadata": {
        "id": "jHTroSRgmN68"
      }
    },
    {
      "cell_type": "markdown",
      "source": [
        "## 3.2 Obtener $p$, $q$"
      ],
      "metadata": {
        "id": "7b915p8MmcHG"
      }
    },
    {
      "cell_type": "code",
      "source": [
        "# ACF plot\n",
        "n_coef = 50\n",
        "fig, ax = plt.subplots(figsize=(12,4))\n",
        "\n",
        "plot_acf(\n",
        "    x=data['log_returns'],\n",
        "    ax=ax,\n",
        "    lags=n_coef,\n",
        "    color='#004D47',\n",
        "    #alpha=0.7\n",
        ")\n",
        "ax.set(\n",
        "    xlabel='Timesteps',\n",
        "    ylabel='Values',\n",
        "    title = 'ACF: Retornos logarítmicos diarios del dolar')\n",
        "ax.title.set_size(20)\n",
        "plt.show()"
      ],
      "metadata": {
        "id": "61qevFZ1mHbN"
      },
      "execution_count": null,
      "outputs": []
    },
    {
      "cell_type": "code",
      "source": [
        "# PACF plot\n",
        "n_coef = 50\n",
        "fig, ax = plt.subplots(figsize=(12,4))\n",
        "\n",
        "plot_pacf(\n",
        "    x=data['log_returns'],\n",
        "    ax=ax,\n",
        "    lags=n_coef,\n",
        "    color='#004D47',\n",
        "    #alpha=0.7\n",
        ")\n",
        "ax.set(\n",
        "    xlabel='Timesteps',\n",
        "    ylabel='Values',\n",
        "    title = 'PACF: Retornos logarítmicos diarios del dolar')\n",
        "ax.title.set_size(20)\n",
        "plt.show()"
      ],
      "metadata": {
        "id": "uOOsFkzymuH5"
      },
      "execution_count": null,
      "outputs": []
    },
    {
      "cell_type": "markdown",
      "source": [
        "Analizando los gráficos de ACP y PACF, vemos que solo la serie de tiempo solo tiene autocorrleación con el primer lag, con el resto de valores pasados no se aprecia alguna correlación. Dada la falta de Autocorrelaciones, podemos suponer que el uso del modelo ARIMA puede que no nos llegue a realizar una buena predicción. Por ahora continuaremos con el ejercicio tomando $p,q=1$."
      ],
      "metadata": {
        "id": "SK5lbKlkpiiR"
      }
    },
    {
      "cell_type": "markdown",
      "source": [
        "## 3.3 Modelo ARIMA"
      ],
      "metadata": {
        "id": "EZRieQACqaCl"
      }
    },
    {
      "cell_type": "markdown",
      "source": [
        "### 3.3.1 Split data\n",
        "Tomaremos el último **mes** como test y entrenaremos con el resto de datos."
      ],
      "metadata": {
        "id": "xhuNYtFPtJ1f"
      }
    },
    {
      "cell_type": "code",
      "source": [
        "train_data = data.iloc[:-20,:].copy()\n",
        "test_data = data.iloc[-20:,:].copy()\n",
        "\n",
        "print(train_data.shape)\n",
        "print(test_data.shape)"
      ],
      "metadata": {
        "id": "4MMneT14tJN8"
      },
      "execution_count": null,
      "outputs": []
    },
    {
      "cell_type": "markdown",
      "source": [
        "### 3.3.2 Train"
      ],
      "metadata": {
        "id": "iro5ubUsurvK"
      }
    },
    {
      "cell_type": "code",
      "source": [
        "# MODELO ARIMA\n",
        "model_arma = ARIMA(\n",
        "    train_data['log_returns'],\n",
        "    order=(1, 0, 1),\n",
        "    enforce_stationarity=False,\n",
        ")\n",
        "\n",
        "model_arma_fitted = model_arma.fit()"
      ],
      "metadata": {
        "id": "gQTkUIkAqZjO"
      },
      "execution_count": null,
      "outputs": []
    },
    {
      "cell_type": "code",
      "source": [
        "print(model_arma_fitted.summary())"
      ],
      "metadata": {
        "id": "Ig2yz8DkwA0R"
      },
      "execution_count": null,
      "outputs": []
    },
    {
      "cell_type": "markdown",
      "source": [
        "### 3.3.3 Test"
      ],
      "metadata": {
        "id": "dh4zL2Z9uvSQ"
      }
    },
    {
      "cell_type": "code",
      "source": [
        "# log returns\n",
        "test_forecast = model_arma_fitted.get_forecast(steps=len(test_data))\n",
        "test_forecast_series = pd.Series(test_forecast.predicted_mean.values, index=test_data.index)\n",
        "\n",
        "# metrics\n",
        "mse = mean_squared_error(test_data['log_returns'], test_forecast_series)\n",
        "rmse = mse**0.5\n",
        "mae = mean_absolute_error(test_data['log_returns'], test_forecast_series)\n",
        "\n",
        "# plot for comparing\n",
        "plt.figure(figsize=(12,4))\n",
        "plt.plot(train_data['log_returns'], label='Training Data', color='#128277')\n",
        "plt.plot(test_data['log_returns'], label='Test Data', color='#6FB98F',)\n",
        "plt.plot(test_forecast_series, label='Forecasted Data', color='grey', linestyle='--')\n",
        "plt.fill_between(test_data.index,\n",
        "                 test_forecast.conf_int().iloc[:, 0],\n",
        "                 test_forecast.conf_int().iloc[:, 1],\n",
        "                 color='k', alpha=.1)\n",
        "plt.title('Evaluación: ARIMA en retornos logarítmicos')\n",
        "plt.xlabel('Date')\n",
        "plt.ylabel('Date')\n",
        "plt.legend()\n",
        "plt.show()\n",
        "\n",
        "print(f'RMSE: {rmse:.4f}')\n",
        "print(f'MAE: {mae:.4f}')"
      ],
      "metadata": {
        "id": "qhO6qtEHp0Ev"
      },
      "execution_count": null,
      "outputs": []
    },
    {
      "cell_type": "code",
      "source": [
        "# log returns\n",
        "test_forecast = model_arma_fitted.get_forecast(steps=len(test_data))\n",
        "test_forecast_values = test_forecast.predicted_mean.values\n",
        "\n",
        "# inverse log return\n",
        "for index,val in enumerate(test_forecast_values):\n",
        "  test_forecast_values[index] = np.exp(val)*data['dollar_price'].iloc[-21+index]\n",
        "\n",
        "test_forecast_series = pd.Series(test_forecast_values, index=test_data.index)\n",
        "# metrics\n",
        "mse = mean_squared_error(test_data['dollar_price'], test_forecast_series)\n",
        "rmse = mse**0.5\n",
        "mae = mean_absolute_error(test_data['dollar_price'], test_forecast_series)\n",
        "\n",
        "# plot for comparing\n",
        "plt.figure(figsize=(12,4))\n",
        "plt.plot(train_data['dollar_price'], label='Training Data', color='#128277')\n",
        "plt.plot(test_data['dollar_price'], label='Test Data', color='#6FB98F',)\n",
        "plt.plot(test_forecast_series, label='Forecasted Data', color='grey', linestyle='--')\n",
        "plt.fill_between(test_data.index,\n",
        "                 test_forecast.conf_int().iloc[:, 0],\n",
        "                 test_forecast.conf_int().iloc[:, 1],\n",
        "                 color='k', alpha=.15)\n",
        "plt.title('Evaluación: ARIMA en el precio del dolar')\n",
        "plt.xlabel('Date')\n",
        "plt.ylabel('Date')\n",
        "plt.legend()\n",
        "plt.show()\n",
        "\n",
        "print(f'RMSE: {rmse:.4f}')\n",
        "print(f'MAE: {mae:.4f}')"
      ],
      "metadata": {
        "id": "Zx1avFhm9adh"
      },
      "execution_count": null,
      "outputs": []
    },
    {
      "cell_type": "code",
      "source": [
        "# log returns\n",
        "test_forecast = model_arma_fitted.get_forecast(steps=len(test_data))\n",
        "test_forecast_values = test_forecast.predicted_mean.values\n",
        "\n",
        "# inverse log return\n",
        "for index,val in enumerate(test_forecast_values):\n",
        "  test_forecast_values[index] = np.exp(val)*data['dollar_price'].iloc[-21+index]\n",
        "\n",
        "test_forecast_series = pd.Series(test_forecast_values, index=test_data.index)\n",
        "# metrics\n",
        "mse = mean_squared_error(test_data['dollar_price'], test_forecast_series)\n",
        "rmse = mse**0.5\n",
        "mae = mean_absolute_error(test_data['dollar_price'], test_forecast_series)\n",
        "\n",
        "# plot for comparing\n",
        "plt.figure(figsize=(12,4))\n",
        "plt.plot(test_data['dollar_price'], label='Test Data', color='#6FB98F',)\n",
        "plt.plot(test_forecast_series, label='Forecasted Data', color='grey', linestyle='--')\n",
        "plt.fill_between(test_data.index,\n",
        "                 test_forecast.conf_int().iloc[:, 0],\n",
        "                 test_forecast.conf_int().iloc[:, 1],\n",
        "                 color='k', alpha=.15)\n",
        "plt.title('Evaluación: ARIMA en el precio del dolar')\n",
        "plt.xlabel('Date')\n",
        "plt.ylabel('Date')\n",
        "plt.legend()\n",
        "plt.show()\n",
        "\n",
        "print(f'RMSE: {rmse:.4f}')\n",
        "print(f'MAE: {mae:.4f}')"
      ],
      "metadata": {
        "id": "Cn3lr90f0EnE"
      },
      "execution_count": null,
      "outputs": []
    },
    {
      "cell_type": "markdown",
      "source": [
        "### 3.3.4. Conclusión\n",
        "\n",
        "El modelo ARIMA a pesar de tener métricas de RMSE y MAE bajas, podemos notar en el último gráfico que la predicción obtenida es tan solo el valor anterior. Por ende el modelo no logra capturar completamente el comportamiento de la serie de tiempo. Probemos con otros métodos."
      ],
      "metadata": {
        "id": "JYnc5sEOGqf1"
      }
    },
    {
      "cell_type": "markdown",
      "source": [
        "# 4. Forecasting con GARCH\n",
        "\n",
        "Dado que ya hemos procesado y analizado los datos, iremos directamente al proceso de modelado con GARCH.*texto en cursiva*"
      ],
      "metadata": {
        "id": "VIw4UEOlHVNr"
      }
    },
    {
      "cell_type": "code",
      "source": [
        "daily_volatility = data['log_returns'].std()\n",
        "print(f'Volatilidad Diaria: {daily_volatility:.4f}')\n",
        "\n",
        "monthly_volatility = np.sqrt(21) * daily_volatility\n",
        "print(f'Volatilidad Mensual: {monthly_volatility:.4f}')\n",
        "\n",
        "yearly_volatility = np.sqrt(252) * daily_volatility\n",
        "print(f'Volatilidad Anual: {yearly_volatility:.4f}')"
      ],
      "metadata": {
        "id": "hNmrsHT8w3c2"
      },
      "execution_count": null,
      "outputs": []
    },
    {
      "cell_type": "markdown",
      "source": [
        "## 4.1 Train"
      ],
      "metadata": {
        "id": "zAfs-KyDHuxr"
      }
    },
    {
      "cell_type": "code",
      "source": [
        "model_garch = arch_model(\n",
        "    train_data['log_returns']*100, # Multiplicar por 100 para cambiar la escala\n",
        "    mean='Zero',\n",
        "    vol='ARCH',\n",
        "    p=1,\n",
        "    q=1\n",
        ")\n",
        "\n",
        "model_garch_fitted = model_garch.fit()"
      ],
      "metadata": {
        "id": "HjJI1LXHCrle"
      },
      "execution_count": null,
      "outputs": []
    },
    {
      "cell_type": "code",
      "source": [
        "print(model_garch_fitted.summary())"
      ],
      "metadata": {
        "id": "jxcGwIotH3pJ"
      },
      "execution_count": null,
      "outputs": []
    },
    {
      "cell_type": "markdown",
      "source": [
        "## 4.2 Test"
      ],
      "metadata": {
        "id": "mqo2V_zkyG9v"
      }
    },
    {
      "cell_type": "code",
      "source": [
        "train_volatility = model_garch_fitted.conditional_volatility / 100 # regresar a la escala\n",
        "\n",
        "forecasts = model_garch_fitted.forecast(horizon=20)\n",
        "forecast_volatility = pd.Series(\n",
        "    forecasts.variance[-1:].values.flatten(),\n",
        "    index=test_data.index) / 100 #regresar a la escala"
      ],
      "metadata": {
        "id": "ISjFrbqfL6QE"
      },
      "execution_count": null,
      "outputs": []
    },
    {
      "cell_type": "code",
      "source": [
        "# plot\n",
        "plt.figure(figsize=(12,4))\n",
        "\n",
        "plt.plot(train_data['log_returns'], label='Training Data [Log_returns]', color='#128277')\n",
        "plt.plot(train_volatility, label='Volatilidad Predicha', color='lightcoral')\n",
        "\n",
        "\n",
        "plt.plot(test_data['log_returns'], label='Test Data [Log_returns]', color='#6FB98F',)\n",
        "plt.plot(forecast_volatility, label='Volatilidad test', color='lightcoral', alpha=0.7, linestyle='--')\n",
        "\n",
        "plt.title('Evaluación: ARCH en retornos logarítmicos')\n",
        "plt.xlabel('Date')\n",
        "plt.ylabel('Date')\n",
        "plt.legend()\n",
        "plt.show()\n"
      ],
      "metadata": {
        "id": "UlXLaNh5yQxI"
      },
      "execution_count": null,
      "outputs": []
    },
    {
      "cell_type": "code",
      "source": [
        "# plot\n",
        "plt.figure(figsize=(12,4))\n",
        "plt.plot(test_data['log_returns'], label='Test Data [Log_returns]', color='#6FB98F',)\n",
        "plt.plot(forecast_volatility, label='Volatilidad test', color='lightcoral', alpha=0.7, linestyle='--')\n",
        "\n",
        "plt.title('Evaluación: ARCH en retornos logarítmicos')\n",
        "plt.xlabel('Date')\n",
        "plt.ylabel('Date')\n",
        "plt.legend()\n",
        "plt.show()"
      ],
      "metadata": {
        "id": "psxsHitDydn5"
      },
      "execution_count": null,
      "outputs": []
    },
    {
      "cell_type": "markdown",
      "source": [
        "# 4. Forecasting con LSTM"
      ],
      "metadata": {
        "id": "-_W0DpYK4XAa"
      }
    },
    {
      "cell_type": "markdown",
      "source": [
        "## 4.1 Preparación de los datos"
      ],
      "metadata": {
        "id": "me2e9kv_Jsxb"
      }
    },
    {
      "cell_type": "code",
      "source": [
        "# tomando un n_steps hacia atrás\n",
        "def create_sequences(data, n_steps):\n",
        "    X, y = [], []\n",
        "    for i in range(len(data) - n_steps):\n",
        "        X.append(data[i:(i + n_steps)])\n",
        "        y.append(data[i + n_steps])\n",
        "\n",
        "    X = np.array(X)\n",
        "    X = np.reshape(X, (X.shape[0], X.shape[1], 1))\n",
        "\n",
        "    y = np.array(y)\n",
        "\n",
        "\n",
        "    return  X, y"
      ],
      "metadata": {
        "id": "2GQ8Hi8WJsLF"
      },
      "execution_count": null,
      "outputs": []
    },
    {
      "cell_type": "code",
      "source": [
        "n_steps_back = 1\n",
        "\n",
        "# last month for testing\n",
        "train_data = data.iloc[:-20,:].copy()\n",
        "test_data = data.iloc[-20:,:].copy()\n",
        "\n",
        "X_train, y_train = create_sequences(\n",
        "    train_data['dollar_price'].values,\n",
        "    n_steps=n_steps_back\n",
        ")\n",
        "\n",
        "X_test, y_test = create_sequences(\n",
        "    test_data['dollar_price'].values,\n",
        "    n_steps=n_steps_back\n",
        ")\n",
        "\n",
        "print(X_train.shape, y_train.shape)\n",
        "print(X_test.shape, y_test.shape)"
      ],
      "metadata": {
        "id": "OGhnRZaJJ1wc"
      },
      "execution_count": null,
      "outputs": []
    },
    {
      "cell_type": "markdown",
      "source": [
        "## 4.2 Arquitectura de LSTM\n",
        "\n",
        "La red a implementar tendrá en su capa de entrada la cantidad de lags a tomar hacia atrás (2), luego una capa LSTM con 64 neuronas, después una capa Densa con (32) neuronas con función de activación relu y finalmente una capa de salida con un solo valor, la cuál será nuestra predicción.\n"
      ],
      "metadata": {
        "id": "M6beTT4g4a_q"
      }
    },
    {
      "cell_type": "code",
      "source": [
        "model_lstm = keras.models.Sequential([\n",
        "    layers.Input((n_steps_back, 1), name = 'price_input'),\n",
        "    layers.LSTM(units=64,  name='first_lstm', return_sequences=True, activation=\"relu\"), # 64 neuronas\n",
        "    layers.LSTM(32, name='second_lstm', activation=\"relu\"), # 64 neuronas\n",
        "    #layers.Dense(32, name='first_dense',activation='relu'), # 32 neuronas\n",
        "    #layers.Dense(16, name='second_dense',activation='softmax'), # 32 neuronas\n",
        "    layers.Dense(1, name='output')\n",
        "    ]\n",
        ")\n",
        "\n",
        "model_lstm.compile(\n",
        "    loss='mse',\n",
        "    optimizer=Adam(learning_rate=1e-3),\n",
        "    metrics=['mean_absolute_error']\n",
        ")\n",
        "\n",
        "\n",
        "model_lstm.summary()"
      ],
      "metadata": {
        "id": "kbMrAG054oWL"
      },
      "execution_count": null,
      "outputs": []
    },
    {
      "cell_type": "code",
      "source": [
        "# Visualización del modelo\n",
        "keras.utils.plot_model(\n",
        "    model,\n",
        "    show_shapes=True,\n",
        "    show_dtype=False,\n",
        "    show_layer_names=True,\n",
        "    rankdir=\"TD\",\n",
        "    dpi=100,\n",
        ")\n",
        ""
      ],
      "metadata": {
        "id": "M-UPfZi0NQyV"
      },
      "execution_count": null,
      "outputs": []
    },
    {
      "cell_type": "markdown",
      "source": [
        "## 4.2 Training"
      ],
      "metadata": {
        "id": "S3ER8nzo4bHl"
      }
    },
    {
      "cell_type": "code",
      "source": [
        "history = model_lstm.fit(\n",
        "    X_train,\n",
        "    y_train,\n",
        "    epochs=100,\n",
        "    #batch_size = n_steps_back,\n",
        ")"
      ],
      "metadata": {
        "collapsed": true,
        "id": "PcBUweRj4os5"
      },
      "execution_count": null,
      "outputs": []
    },
    {
      "cell_type": "markdown",
      "source": [
        "## 4.3 Test"
      ],
      "metadata": {
        "id": "S5Dyv8rk4bMl"
      }
    },
    {
      "cell_type": "code",
      "source": [
        "# Graficar la función de pérdida\n",
        "plt.figure(figsize=(10, 6))\n",
        "plt.plot(history.history['loss'], label='Entrenamiento', color='turquoise')\n",
        "plt.title('Función de Pérdida del Modelo')\n",
        "plt.xlabel('Época')\n",
        "plt.ylabel('Pérdida')\n",
        "plt.legend()\n",
        "plt.show()"
      ],
      "metadata": {
        "id": "OD2kZME7Ul98"
      },
      "execution_count": null,
      "outputs": []
    },
    {
      "cell_type": "code",
      "source": [
        "y_train_pred = model_lstm.predict(X_train)\n",
        "y_test_pred = model_lstm.predict(X_test)\n",
        "\n",
        "y_train_pred = pd.Series(\n",
        "    y_train_pred.ravel(),\n",
        "    index=train_data.iloc[n_steps_back:,].index\n",
        ")\n",
        "y_test_pred = pd.Series(\n",
        "    y_test_pred.ravel(),\n",
        "    index=test_data.iloc[n_steps_back:,].index\n",
        ")\n"
      ],
      "metadata": {
        "id": "4lYRY3MpcTku"
      },
      "execution_count": null,
      "outputs": []
    },
    {
      "cell_type": "code",
      "source": [
        "# metrics\n",
        "rmse = mean_squared_error(y_train, y_train_pred)**0.5\n",
        "mae = mean_absolute_error(y_train, y_train_pred)\n",
        "\n",
        "print('Train Metrics:')\n",
        "print(f'RMSE: {rmse:.4f}')\n",
        "print(f'MAE: {mae:.4f}')\n",
        "\n",
        "print('-'*20)\n",
        "\n",
        "rmse = mean_squared_error(y_test, y_test_pred)**0.5\n",
        "mae = mean_absolute_error(y_test, y_test_pred)\n",
        "print('Test Metrics:')\n",
        "print(f'RMSE: {rmse:.4f}')\n",
        "print(f'MAE: {mae:.4f}')\n"
      ],
      "metadata": {
        "id": "FzjU2WbGTxl1"
      },
      "execution_count": null,
      "outputs": []
    },
    {
      "cell_type": "code",
      "source": [
        "# plot\n",
        "plt.figure(figsize=(12,4))\n",
        "\n",
        "plt.plot(pd.Series(y_train, index=y_train_pred.index), label='TrainData', color='#128277')\n",
        "plt.plot(y_train_pred, label='Train Prediction ', color='lightcoral')\n",
        "\n",
        "plt.plot(pd.Series(y_test, index=y_test_pred.index) , label='Test Data', color='#6FB98F',)\n",
        "plt.plot(y_test_pred, label='Test Prediction', color='lightcoral', alpha=0.7, linestyle='--')\n",
        "\n",
        "plt.title('Evaluación: LSTM en el precio del dolar')\n",
        "plt.xlabel('Date')\n",
        "plt.ylabel('Date')\n",
        "plt.legend()\n",
        "plt.show()"
      ],
      "metadata": {
        "id": "ufhtqZfiO5WC"
      },
      "execution_count": null,
      "outputs": []
    },
    {
      "cell_type": "code",
      "source": [
        "# plot\n",
        "plt.figure(figsize=(12,4))\n",
        "\n",
        "plt.plot(pd.Series(y_test, index=y_test_pred.index), label='Test Data', color='#6FB98F',)\n",
        "plt.plot(y_test_pred, label='Test Prediction', color='lightcoral', alpha=0.7, linestyle='--')\n",
        "\n",
        "plt.title('Evaluación: LSSTM en el precio del dolar')\n",
        "plt.xlabel('Date')\n",
        "plt.ylabel('Date')\n",
        "plt.legend()\n",
        "plt.show()"
      ],
      "metadata": {
        "id": "p7Tusg0HRsem"
      },
      "execution_count": null,
      "outputs": []
    },
    {
      "cell_type": "code",
      "source": [],
      "metadata": {
        "id": "q960j4SiR47x"
      },
      "execution_count": null,
      "outputs": []
    }
  ],
  "metadata": {
    "colab": {
      "provenance": []
    },
    "kernelspec": {
      "display_name": ".venv",
      "language": "python",
      "name": "python3"
    },
    "language_info": {
      "codemirror_mode": {
        "name": "ipython",
        "version": 3
      },
      "file_extension": ".py",
      "mimetype": "text/x-python",
      "name": "python",
      "nbconvert_exporter": "python",
      "pygments_lexer": "ipython3",
      "version": "3.11.4"
    }
  },
  "nbformat": 4,
  "nbformat_minor": 0
}